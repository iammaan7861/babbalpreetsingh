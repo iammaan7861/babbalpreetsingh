{
  "cells": [
    {
      "cell_type": "code",
      "execution_count": null,
      "metadata": {},
      "outputs": [],
      "source": [
        "# YOLOv8-Seg Training (Colab)\n",
        "\n",
        "Setup dependencies, mount Drive (optional), and train.\n"
      ]
    },
    {
      "cell_type": "code",
      "execution_count": null,
      "metadata": {},
      "outputs": [],
      "source": [
        "# Install dependencies (Colab)\n",
        "%pip -q install ultralytics opencv-python seaborn matplotlib scikit-learn reportlab tqdm\n",
        "print(\"Installed.\")\n"
      ]
    },
    {
      "cell_type": "code",
      "execution_count": null,
      "metadata": {},
      "outputs": [],
      "source": [
        "# Configure dataset path and train\n",
        "from ultralytics import YOLO\n",
        "from pathlib import Path\n",
        "\n",
        "DATA_YAML = '/content/datasets/your_dataset/data.yaml'\n",
        "EPOCHS = 100\n",
        "IMG = 640\n",
        "\n",
        "model = YOLO('yolov8s-seg.pt')\n",
        "results = model.train(data=DATA_YAML, epochs=EPOCHS, imgsz=IMG, project='runs/seg_colab', name='exp', plots=True)\n",
        "print('Training done')\n"
      ]
    },
    {
      "cell_type": "code",
      "execution_count": null,
      "metadata": {},
      "outputs": [],
      "source": [
        "# Evaluate and export metrics\n",
        "metrics = model.val(data=DATA_YAML, project='runs/seg_colab_eval', name='exp', plots=True)\n",
        "from json import dumps\n",
        "from pathlib import Path\n",
        "Path('runs/seg_colab_eval/results.json').write_text(dumps(getattr(metrics, 'results_dict', {}), indent=2))\n",
        "print('Eval done')\n"
      ]
    }
  ],
  "metadata": {
    "language_info": {
      "name": "python"
    }
  },
  "nbformat": 4,
  "nbformat_minor": 2
}
