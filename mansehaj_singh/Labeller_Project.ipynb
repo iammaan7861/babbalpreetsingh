{
  "nbformat": 4,
  "nbformat_minor": 0,
  "metadata": {
    "colab": {
      "provenance": []
    },
    "kernelspec": {
      "name": "python3",
      "display_name": "Python 3"
    },
    "language_info": {
      "name": "python"
    }
  },
  "cells": [
    {
      "cell_type": "code",
      "execution_count": 1,
      "metadata": {
        "id": "ejY8f_kPneGN"
      },
      "outputs": [],
      "source": [
        "import numpy as np\n",
        "import pandas as pd"
      ]
    },
    {
      "cell_type": "code",
      "source": [
        "%pip install ultralytics\n",
        "import ultralytics\n",
        "ultralytics.checks()\n"
      ],
      "metadata": {
        "colab": {
          "base_uri": "https://localhost:8080/"
        },
        "id": "2UWz-bKonjEA",
        "outputId": "47fae901-5baf-45c2-c752-ccd48ab6d8a8"
      },
      "execution_count": 2,
      "outputs": [
        {
          "output_type": "stream",
          "name": "stdout",
          "text": [
            "Ultralytics 8.3.202 🚀 Python-3.12.11 torch-2.8.0+cu126 CPU (Intel Xeon CPU @ 2.20GHz)\n",
            "Setup complete ✅ (2 CPUs, 12.7 GB RAM, 39.1/107.7 GB disk)\n"
          ]
        }
      ]
    },
    {
      "cell_type": "code",
      "source": [
        "import os\n"
      ],
      "metadata": {
        "id": "aXvns9vYn1zU"
      },
      "execution_count": 3,
      "outputs": []
    },
    {
      "cell_type": "code",
      "source": [
        "from google.colab import files\n",
        "uploaded = files.upload()\n",
        "\n"
      ],
      "metadata": {
        "colab": {
          "base_uri": "https://localhost:8080/",
          "height": 73
        },
        "id": "vQuN_kOWn39i",
        "outputId": "069d268b-e83e-4d97-86f8-a2a786224c60"
      },
      "execution_count": 4,
      "outputs": [
        {
          "output_type": "display_data",
          "data": {
            "text/plain": [
              "<IPython.core.display.HTML object>"
            ],
            "text/html": [
              "\n",
              "     <input type=\"file\" id=\"files-7817548b-df05-4976-b698-f9b20d090680\" name=\"files[]\" multiple disabled\n",
              "        style=\"border:none\" />\n",
              "     <output id=\"result-7817548b-df05-4976-b698-f9b20d090680\">\n",
              "      Upload widget is only available when the cell has been executed in the\n",
              "      current browser session. Please rerun this cell to enable.\n",
              "      </output>\n",
              "      <script>// Copyright 2017 Google LLC\n",
              "//\n",
              "// Licensed under the Apache License, Version 2.0 (the \"License\");\n",
              "// you may not use this file except in compliance with the License.\n",
              "// You may obtain a copy of the License at\n",
              "//\n",
              "//      http://www.apache.org/licenses/LICENSE-2.0\n",
              "//\n",
              "// Unless required by applicable law or agreed to in writing, software\n",
              "// distributed under the License is distributed on an \"AS IS\" BASIS,\n",
              "// WITHOUT WARRANTIES OR CONDITIONS OF ANY KIND, either express or implied.\n",
              "// See the License for the specific language governing permissions and\n",
              "// limitations under the License.\n",
              "\n",
              "/**\n",
              " * @fileoverview Helpers for google.colab Python module.\n",
              " */\n",
              "(function(scope) {\n",
              "function span(text, styleAttributes = {}) {\n",
              "  const element = document.createElement('span');\n",
              "  element.textContent = text;\n",
              "  for (const key of Object.keys(styleAttributes)) {\n",
              "    element.style[key] = styleAttributes[key];\n",
              "  }\n",
              "  return element;\n",
              "}\n",
              "\n",
              "// Max number of bytes which will be uploaded at a time.\n",
              "const MAX_PAYLOAD_SIZE = 100 * 1024;\n",
              "\n",
              "function _uploadFiles(inputId, outputId) {\n",
              "  const steps = uploadFilesStep(inputId, outputId);\n",
              "  const outputElement = document.getElementById(outputId);\n",
              "  // Cache steps on the outputElement to make it available for the next call\n",
              "  // to uploadFilesContinue from Python.\n",
              "  outputElement.steps = steps;\n",
              "\n",
              "  return _uploadFilesContinue(outputId);\n",
              "}\n",
              "\n",
              "// This is roughly an async generator (not supported in the browser yet),\n",
              "// where there are multiple asynchronous steps and the Python side is going\n",
              "// to poll for completion of each step.\n",
              "// This uses a Promise to block the python side on completion of each step,\n",
              "// then passes the result of the previous step as the input to the next step.\n",
              "function _uploadFilesContinue(outputId) {\n",
              "  const outputElement = document.getElementById(outputId);\n",
              "  const steps = outputElement.steps;\n",
              "\n",
              "  const next = steps.next(outputElement.lastPromiseValue);\n",
              "  return Promise.resolve(next.value.promise).then((value) => {\n",
              "    // Cache the last promise value to make it available to the next\n",
              "    // step of the generator.\n",
              "    outputElement.lastPromiseValue = value;\n",
              "    return next.value.response;\n",
              "  });\n",
              "}\n",
              "\n",
              "/**\n",
              " * Generator function which is called between each async step of the upload\n",
              " * process.\n",
              " * @param {string} inputId Element ID of the input file picker element.\n",
              " * @param {string} outputId Element ID of the output display.\n",
              " * @return {!Iterable<!Object>} Iterable of next steps.\n",
              " */\n",
              "function* uploadFilesStep(inputId, outputId) {\n",
              "  const inputElement = document.getElementById(inputId);\n",
              "  inputElement.disabled = false;\n",
              "\n",
              "  const outputElement = document.getElementById(outputId);\n",
              "  outputElement.innerHTML = '';\n",
              "\n",
              "  const pickedPromise = new Promise((resolve) => {\n",
              "    inputElement.addEventListener('change', (e) => {\n",
              "      resolve(e.target.files);\n",
              "    });\n",
              "  });\n",
              "\n",
              "  const cancel = document.createElement('button');\n",
              "  inputElement.parentElement.appendChild(cancel);\n",
              "  cancel.textContent = 'Cancel upload';\n",
              "  const cancelPromise = new Promise((resolve) => {\n",
              "    cancel.onclick = () => {\n",
              "      resolve(null);\n",
              "    };\n",
              "  });\n",
              "\n",
              "  // Wait for the user to pick the files.\n",
              "  const files = yield {\n",
              "    promise: Promise.race([pickedPromise, cancelPromise]),\n",
              "    response: {\n",
              "      action: 'starting',\n",
              "    }\n",
              "  };\n",
              "\n",
              "  cancel.remove();\n",
              "\n",
              "  // Disable the input element since further picks are not allowed.\n",
              "  inputElement.disabled = true;\n",
              "\n",
              "  if (!files) {\n",
              "    return {\n",
              "      response: {\n",
              "        action: 'complete',\n",
              "      }\n",
              "    };\n",
              "  }\n",
              "\n",
              "  for (const file of files) {\n",
              "    const li = document.createElement('li');\n",
              "    li.append(span(file.name, {fontWeight: 'bold'}));\n",
              "    li.append(span(\n",
              "        `(${file.type || 'n/a'}) - ${file.size} bytes, ` +\n",
              "        `last modified: ${\n",
              "            file.lastModifiedDate ? file.lastModifiedDate.toLocaleDateString() :\n",
              "                                    'n/a'} - `));\n",
              "    const percent = span('0% done');\n",
              "    li.appendChild(percent);\n",
              "\n",
              "    outputElement.appendChild(li);\n",
              "\n",
              "    const fileDataPromise = new Promise((resolve) => {\n",
              "      const reader = new FileReader();\n",
              "      reader.onload = (e) => {\n",
              "        resolve(e.target.result);\n",
              "      };\n",
              "      reader.readAsArrayBuffer(file);\n",
              "    });\n",
              "    // Wait for the data to be ready.\n",
              "    let fileData = yield {\n",
              "      promise: fileDataPromise,\n",
              "      response: {\n",
              "        action: 'continue',\n",
              "      }\n",
              "    };\n",
              "\n",
              "    // Use a chunked sending to avoid message size limits. See b/62115660.\n",
              "    let position = 0;\n",
              "    do {\n",
              "      const length = Math.min(fileData.byteLength - position, MAX_PAYLOAD_SIZE);\n",
              "      const chunk = new Uint8Array(fileData, position, length);\n",
              "      position += length;\n",
              "\n",
              "      const base64 = btoa(String.fromCharCode.apply(null, chunk));\n",
              "      yield {\n",
              "        response: {\n",
              "          action: 'append',\n",
              "          file: file.name,\n",
              "          data: base64,\n",
              "        },\n",
              "      };\n",
              "\n",
              "      let percentDone = fileData.byteLength === 0 ?\n",
              "          100 :\n",
              "          Math.round((position / fileData.byteLength) * 100);\n",
              "      percent.textContent = `${percentDone}% done`;\n",
              "\n",
              "    } while (position < fileData.byteLength);\n",
              "  }\n",
              "\n",
              "  // All done.\n",
              "  yield {\n",
              "    response: {\n",
              "      action: 'complete',\n",
              "    }\n",
              "  };\n",
              "}\n",
              "\n",
              "scope.google = scope.google || {};\n",
              "scope.google.colab = scope.google.colab || {};\n",
              "scope.google.colab._files = {\n",
              "  _uploadFiles,\n",
              "  _uploadFilesContinue,\n",
              "};\n",
              "})(self);\n",
              "</script> "
            ]
          },
          "metadata": {}
        },
        {
          "output_type": "stream",
          "name": "stdout",
          "text": [
            "Saving Datasets.zip.zip to Datasets.zip.zip\n"
          ]
        }
      ]
    },
    {
      "cell_type": "code",
      "source": [
        "!unzip -q Datasets.zip.zip -d /content/datasets/\n"
      ],
      "metadata": {
        "id": "RxsuLqWy1Bul"
      },
      "execution_count": 5,
      "outputs": []
    },
    {
      "cell_type": "code",
      "source": [
        "!ls /content/datasets/\n"
      ],
      "metadata": {
        "colab": {
          "base_uri": "https://localhost:8080/"
        },
        "id": "A623MzZv1d0j",
        "outputId": "31dd7894-faeb-4175-d694-90d3e88dd852"
      },
      "execution_count": 6,
      "outputs": [
        {
          "output_type": "stream",
          "name": "stdout",
          "text": [
            "Test  Train  Val\n"
          ]
        }
      ]
    },
    {
      "cell_type": "code",
      "source": [
        "\n",
        "yaml_content = \"\"\"\n",
        "test: /content/datasets/test/images\n",
        "train: /content/datasets/train/images\n",
        "val: /content/datasets/val/images\n",
        "\n",
        "\n",
        "nc: 2\n",
        "names: ['person', 'car']\n",
        "\"\"\"\n",
        "\n",
        "# Write to file\n",
        "with open(\"/content/datasets/data.yaml\", \"w\") as f:\n",
        "    f.write(yaml_content)\n",
        "\n",
        "print(\"data.yaml created at /content/datasets/data.yaml\")\n"
      ],
      "metadata": {
        "colab": {
          "base_uri": "https://localhost:8080/"
        },
        "id": "qlQgs2LJ2B7f",
        "outputId": "4df3c597-c5e0-4833-f1ad-95cead6708b6"
      },
      "execution_count": 10,
      "outputs": [
        {
          "output_type": "stream",
          "name": "stdout",
          "text": [
            "data.yaml created at /content/datasets/data.yaml\n"
          ]
        }
      ]
    },
    {
      "cell_type": "code",
      "source": [
        "!person /content/datasets/data.yaml\n"
      ],
      "metadata": {
        "colab": {
          "base_uri": "https://localhost:8080/"
        },
        "id": "uuPeRGNJ2Z1-",
        "outputId": "50341a9c-e0d2-45bb-f6f2-2b45d9448d1a"
      },
      "execution_count": 8,
      "outputs": [
        {
          "output_type": "stream",
          "name": "stdout",
          "text": [
            "/bin/bash: line 1: person: command not found\n"
          ]
        }
      ]
    },
    {
      "cell_type": "code",
      "source": [
        "!cat /content/datasets/data.yaml\n"
      ],
      "metadata": {
        "colab": {
          "base_uri": "https://localhost:8080/"
        },
        "id": "sZt5oqzU2ndJ",
        "outputId": "7aa70de5-2bcf-4e01-bed5-6a97fd447f92"
      },
      "execution_count": 11,
      "outputs": [
        {
          "output_type": "stream",
          "name": "stdout",
          "text": [
            "\n",
            "test: /content/datasets/test/images\n",
            "train: /content/datasets/train/images\n",
            "val: /content/datasets/val/images\n",
            "\n",
            "\n",
            "nc: 2  \n",
            "names: ['person', 'car'] \n"
          ]
        }
      ]
    },
    {
      "cell_type": "code",
      "source": [
        "from ultralytics import YOLO\n",
        "\n",
        "# Check version\n",
        "import ultralytics\n",
        "print(\"Ultralytics YOLO version:\", ultralytics.__version__)\n"
      ],
      "metadata": {
        "colab": {
          "base_uri": "https://localhost:8080/"
        },
        "id": "lipcXVUd3VVo",
        "outputId": "6287cf90-72f3-42f5-fdb5-a1d87201d3f5"
      },
      "execution_count": 12,
      "outputs": [
        {
          "output_type": "stream",
          "name": "stdout",
          "text": [
            "Ultralytics YOLO version: 8.3.202\n"
          ]
        }
      ]
    },
    {
      "cell_type": "code",
      "source": [
        "model = YOLO('yolov8m.pt')"
      ],
      "metadata": {
        "colab": {
          "base_uri": "https://localhost:8080/"
        },
        "id": "YC8AYlu_3bzO",
        "outputId": "b156d1cb-0e63-40a5-bced-8a58bb79f834"
      },
      "execution_count": 13,
      "outputs": [
        {
          "output_type": "stream",
          "name": "stdout",
          "text": [
            "\u001b[KDownloading https://github.com/ultralytics/assets/releases/download/v8.3.0/yolov8m.pt to 'yolov8m.pt': 100% ━━━━━━━━━━━━ 49.7MB 287.6MB/s 0.2s\n"
          ]
        }
      ]
    },
    {
      "cell_type": "code",
      "source": [
        "!ls -R /content/datasets\n",
        "\n"
      ],
      "metadata": {
        "colab": {
          "base_uri": "https://localhost:8080/"
        },
        "id": "cbF1cX2i3mST",
        "outputId": "9116032a-7882-4a69-b4b9-792ee911bec9"
      },
      "execution_count": 15,
      "outputs": [
        {
          "output_type": "stream",
          "name": "stdout",
          "text": [
            "/content/datasets:\n",
            "data.yaml  Test  Train\tVal\n",
            "\n",
            "/content/datasets/Test:\n",
            "Images\tLabels\n",
            "\n",
            "/content/datasets/Test/Images:\n",
            "PersonCar_SIXU_C00001.jpg  PersonCar_SIXU_C00028.jpg  PersonCar_SIXU_C00055.jpg\n",
            "PersonCar_SIXU_C00002.jpg  PersonCar_SIXU_C00029.jpg  PersonCar_SIXU_C00056.jpg\n",
            "PersonCar_SIXU_C00003.jpg  PersonCar_SIXU_C00030.jpg  PersonCar_SIXU_C00057.jpg\n",
            "PersonCar_SIXU_C00004.jpg  PersonCar_SIXU_C00031.jpg  PersonCar_SIXU_C00058.jpg\n",
            "PersonCar_SIXU_C00005.jpg  PersonCar_SIXU_C00032.jpg  PersonCar_SIXU_C00059.jpg\n",
            "PersonCar_SIXU_C00006.jpg  PersonCar_SIXU_C00033.jpg  PersonCar_SIXU_C00060.jpg\n",
            "PersonCar_SIXU_C00007.jpg  PersonCar_SIXU_C00034.jpg  PersonCar_SIXU_C00061.jpg\n",
            "PersonCar_SIXU_C00008.jpg  PersonCar_SIXU_C00035.jpg  PersonCar_SIXU_C00062.jpg\n",
            "PersonCar_SIXU_C00009.jpg  PersonCar_SIXU_C00036.jpg  PersonCar_SIXU_C00063.jpg\n",
            "PersonCar_SIXU_C00010.jpg  PersonCar_SIXU_C00037.jpg  PersonCar_SIXU_C00064.jpg\n",
            "PersonCar_SIXU_C00011.jpg  PersonCar_SIXU_C00038.jpg  PersonCar_SIXU_C00065.jpg\n",
            "PersonCar_SIXU_C00012.jpg  PersonCar_SIXU_C00039.jpg  PersonCar_SIXU_C00066.jpg\n",
            "PersonCar_SIXU_C00013.jpg  PersonCar_SIXU_C00040.jpg  PersonCar_SIXU_C00067.jpg\n",
            "PersonCar_SIXU_C00014.jpg  PersonCar_SIXU_C00041.jpg  PersonCar_SIXU_C00068.jpg\n",
            "PersonCar_SIXU_C00015.jpg  PersonCar_SIXU_C00042.jpg  PersonCar_SIXU_C00069.jpg\n",
            "PersonCar_SIXU_C00016.jpg  PersonCar_SIXU_C00043.jpg  PersonCar_SIXU_C00070.jpg\n",
            "PersonCar_SIXU_C00017.jpg  PersonCar_SIXU_C00044.jpg  PersonCar_SIXU_C00071.jpg\n",
            "PersonCar_SIXU_C00018.jpg  PersonCar_SIXU_C00045.jpg  PersonCar_SIXU_C00072.jpg\n",
            "PersonCar_SIXU_C00019.jpg  PersonCar_SIXU_C00046.jpg  PersonCar_SIXU_C00073.jpg\n",
            "PersonCar_SIXU_C00020.jpg  PersonCar_SIXU_C00047.jpg  PersonCar_SIXU_C00074.jpg\n",
            "PersonCar_SIXU_C00021.jpg  PersonCar_SIXU_C00048.jpg  PersonCar_SIXU_C00075.jpg\n",
            "PersonCar_SIXU_C00022.jpg  PersonCar_SIXU_C00049.jpg  PersonCar_SIXU_C00076.jpg\n",
            "PersonCar_SIXU_C00023.jpg  PersonCar_SIXU_C00050.jpg  PersonCar_SIXU_C00077.jpg\n",
            "PersonCar_SIXU_C00024.jpg  PersonCar_SIXU_C00051.jpg  PersonCar_SIXU_C00078.jpg\n",
            "PersonCar_SIXU_C00025.jpg  PersonCar_SIXU_C00052.jpg  PersonCar_SIXU_C00079.jpg\n",
            "PersonCar_SIXU_C00026.jpg  PersonCar_SIXU_C00053.jpg  PersonCar_SIXU_C00080.jpg\n",
            "PersonCar_SIXU_C00027.jpg  PersonCar_SIXU_C00054.jpg\n",
            "\n",
            "/content/datasets/Test/Labels:\n",
            "PersonCar_SIXU_C00001.txt  PersonCar_SIXU_C00028.txt  PersonCar_SIXU_C00055.txt\n",
            "PersonCar_SIXU_C00002.txt  PersonCar_SIXU_C00029.txt  PersonCar_SIXU_C00056.txt\n",
            "PersonCar_SIXU_C00003.txt  PersonCar_SIXU_C00030.txt  PersonCar_SIXU_C00057.txt\n",
            "PersonCar_SIXU_C00004.txt  PersonCar_SIXU_C00031.txt  PersonCar_SIXU_C00058.txt\n",
            "PersonCar_SIXU_C00005.txt  PersonCar_SIXU_C00032.txt  PersonCar_SIXU_C00059.txt\n",
            "PersonCar_SIXU_C00006.txt  PersonCar_SIXU_C00033.txt  PersonCar_SIXU_C00060.txt\n",
            "PersonCar_SIXU_C00007.txt  PersonCar_SIXU_C00034.txt  PersonCar_SIXU_C00061.txt\n",
            "PersonCar_SIXU_C00008.txt  PersonCar_SIXU_C00035.txt  PersonCar_SIXU_C00062.txt\n",
            "PersonCar_SIXU_C00009.txt  PersonCar_SIXU_C00036.txt  PersonCar_SIXU_C00063.txt\n",
            "PersonCar_SIXU_C00010.txt  PersonCar_SIXU_C00037.txt  PersonCar_SIXU_C00064.txt\n",
            "PersonCar_SIXU_C00011.txt  PersonCar_SIXU_C00038.txt  PersonCar_SIXU_C00065.txt\n",
            "PersonCar_SIXU_C00012.txt  PersonCar_SIXU_C00039.txt  PersonCar_SIXU_C00066.txt\n",
            "PersonCar_SIXU_C00013.txt  PersonCar_SIXU_C00040.txt  PersonCar_SIXU_C00067.txt\n",
            "PersonCar_SIXU_C00014.txt  PersonCar_SIXU_C00041.txt  PersonCar_SIXU_C00068.txt\n",
            "PersonCar_SIXU_C00015.txt  PersonCar_SIXU_C00042.txt  PersonCar_SIXU_C00069.txt\n",
            "PersonCar_SIXU_C00016.txt  PersonCar_SIXU_C00043.txt  PersonCar_SIXU_C00070.txt\n",
            "PersonCar_SIXU_C00017.txt  PersonCar_SIXU_C00044.txt  PersonCar_SIXU_C00071.txt\n",
            "PersonCar_SIXU_C00018.txt  PersonCar_SIXU_C00045.txt  PersonCar_SIXU_C00072.txt\n",
            "PersonCar_SIXU_C00019.txt  PersonCar_SIXU_C00046.txt  PersonCar_SIXU_C00073.txt\n",
            "PersonCar_SIXU_C00020.txt  PersonCar_SIXU_C00047.txt  PersonCar_SIXU_C00074.txt\n",
            "PersonCar_SIXU_C00021.txt  PersonCar_SIXU_C00048.txt  PersonCar_SIXU_C00075.txt\n",
            "PersonCar_SIXU_C00022.txt  PersonCar_SIXU_C00049.txt  PersonCar_SIXU_C00076.txt\n",
            "PersonCar_SIXU_C00023.txt  PersonCar_SIXU_C00050.txt  PersonCar_SIXU_C00077.txt\n",
            "PersonCar_SIXU_C00024.txt  PersonCar_SIXU_C00051.txt  PersonCar_SIXU_C00078.txt\n",
            "PersonCar_SIXU_C00025.txt  PersonCar_SIXU_C00052.txt  PersonCar_SIXU_C00079.txt\n",
            "PersonCar_SIXU_C00026.txt  PersonCar_SIXU_C00053.txt  PersonCar_SIXU_C00080.txt\n",
            "PersonCar_SIXU_C00027.txt  PersonCar_SIXU_C00054.txt\n",
            "\n",
            "/content/datasets/Train:\n",
            "Images\tLabels\n",
            "\n",
            "/content/datasets/Train/Images:\n",
            "PersonCar_SIXU_A00001.jpg  PersonCar_SIXU_A00055.jpg  PersonCar_SIXU_A00109.jpg\n",
            "PersonCar_SIXU_A00002.jpg  PersonCar_SIXU_A00056.jpg  PersonCar_SIXU_A00110.jpg\n",
            "PersonCar_SIXU_A00003.jpg  PersonCar_SIXU_A00057.jpg  PersonCar_SIXU_A00111.jpg\n",
            "PersonCar_SIXU_A00004.jpg  PersonCar_SIXU_A00058.jpg  PersonCar_SIXU_A00112.jpg\n",
            "PersonCar_SIXU_A00005.jpg  PersonCar_SIXU_A00059.jpg  PersonCar_SIXU_A00113.jpg\n",
            "PersonCar_SIXU_A00006.jpg  PersonCar_SIXU_A00060.jpg  PersonCar_SIXU_A00114.jpg\n",
            "PersonCar_SIXU_A00007.jpg  PersonCar_SIXU_A00061.jpg  PersonCar_SIXU_A00115.jpg\n",
            "PersonCar_SIXU_A00008.jpg  PersonCar_SIXU_A00062.jpg  PersonCar_SIXU_A00116.jpg\n",
            "PersonCar_SIXU_A00009.jpg  PersonCar_SIXU_A00063.jpg  PersonCar_SIXU_A00117.jpg\n",
            "PersonCar_SIXU_A00010.jpg  PersonCar_SIXU_A00064.jpg  PersonCar_SIXU_A00118.jpg\n",
            "PersonCar_SIXU_A00011.jpg  PersonCar_SIXU_A00065.jpg  PersonCar_SIXU_A00119.jpg\n",
            "PersonCar_SIXU_A00012.jpg  PersonCar_SIXU_A00066.jpg  PersonCar_SIXU_A00120.jpg\n",
            "PersonCar_SIXU_A00013.jpg  PersonCar_SIXU_A00067.jpg  PersonCar_SIXU_A00121.jpg\n",
            "PersonCar_SIXU_A00014.jpg  PersonCar_SIXU_A00068.jpg  PersonCar_SIXU_A00122.jpg\n",
            "PersonCar_SIXU_A00015.jpg  PersonCar_SIXU_A00069.jpg  PersonCar_SIXU_A00123.jpg\n",
            "PersonCar_SIXU_A00016.jpg  PersonCar_SIXU_A00070.jpg  PersonCar_SIXU_A00124.jpg\n",
            "PersonCar_SIXU_A00017.jpg  PersonCar_SIXU_A00071.jpg  PersonCar_SIXU_A00125.jpg\n",
            "PersonCar_SIXU_A00018.jpg  PersonCar_SIXU_A00072.jpg  PersonCar_SIXU_A00126.jpg\n",
            "PersonCar_SIXU_A00019.jpg  PersonCar_SIXU_A00073.jpg  PersonCar_SIXU_A00127.jpg\n",
            "PersonCar_SIXU_A00020.jpg  PersonCar_SIXU_A00074.jpg  PersonCar_SIXU_A00128.jpg\n",
            "PersonCar_SIXU_A00021.jpg  PersonCar_SIXU_A00075.jpg  PersonCar_SIXU_A00129.jpg\n",
            "PersonCar_SIXU_A00022.jpg  PersonCar_SIXU_A00076.jpg  PersonCar_SIXU_A00130.jpg\n",
            "PersonCar_SIXU_A00023.jpg  PersonCar_SIXU_A00077.jpg  PersonCar_SIXU_A00131.jpg\n",
            "PersonCar_SIXU_A00024.jpg  PersonCar_SIXU_A00078.jpg  PersonCar_SIXU_A00132.jpg\n",
            "PersonCar_SIXU_A00025.jpg  PersonCar_SIXU_A00079.jpg  PersonCar_SIXU_A00133.jpg\n",
            "PersonCar_SIXU_A00026.jpg  PersonCar_SIXU_A00080.jpg  PersonCar_SIXU_A00134.jpg\n",
            "PersonCar_SIXU_A00027.jpg  PersonCar_SIXU_A00081.jpg  PersonCar_SIXU_A00135.jpg\n",
            "PersonCar_SIXU_A00028.jpg  PersonCar_SIXU_A00082.jpg  PersonCar_SIXU_A00136.jpg\n",
            "PersonCar_SIXU_A00029.jpg  PersonCar_SIXU_A00083.jpg  PersonCar_SIXU_A00137.jpg\n",
            "PersonCar_SIXU_A00030.jpg  PersonCar_SIXU_A00084.jpg  PersonCar_SIXU_A00138.jpg\n",
            "PersonCar_SIXU_A00031.jpg  PersonCar_SIXU_A00085.jpg  PersonCar_SIXU_A00139.jpg\n",
            "PersonCar_SIXU_A00032.jpg  PersonCar_SIXU_A00086.jpg  PersonCar_SIXU_A00140.jpg\n",
            "PersonCar_SIXU_A00033.jpg  PersonCar_SIXU_A00087.jpg  PersonCar_SIXU_A00141.jpg\n",
            "PersonCar_SIXU_A00034.jpg  PersonCar_SIXU_A00088.jpg  PersonCar_SIXU_A00142.jpg\n",
            "PersonCar_SIXU_A00035.jpg  PersonCar_SIXU_A00089.jpg  PersonCar_SIXU_A00143.jpg\n",
            "PersonCar_SIXU_A00036.jpg  PersonCar_SIXU_A00090.jpg  PersonCar_SIXU_A00144.jpg\n",
            "PersonCar_SIXU_A00037.jpg  PersonCar_SIXU_A00091.jpg  PersonCar_SIXU_A00145.jpg\n",
            "PersonCar_SIXU_A00038.jpg  PersonCar_SIXU_A00092.jpg  PersonCar_SIXU_A00146.jpg\n",
            "PersonCar_SIXU_A00039.jpg  PersonCar_SIXU_A00093.jpg  PersonCar_SIXU_A00147.jpg\n",
            "PersonCar_SIXU_A00040.jpg  PersonCar_SIXU_A00094.jpg  PersonCar_SIXU_A00148.jpg\n",
            "PersonCar_SIXU_A00041.jpg  PersonCar_SIXU_A00095.jpg  PersonCar_SIXU_A00149.jpg\n",
            "PersonCar_SIXU_A00042.jpg  PersonCar_SIXU_A00096.jpg  PersonCar_SIXU_A00150.jpg\n",
            "PersonCar_SIXU_A00043.jpg  PersonCar_SIXU_A00097.jpg  PersonCar_SIXU_A00151.jpg\n",
            "PersonCar_SIXU_A00044.jpg  PersonCar_SIXU_A00098.jpg  PersonCar_SIXU_A00152.jpg\n",
            "PersonCar_SIXU_A00045.jpg  PersonCar_SIXU_A00099.jpg  PersonCar_SIXU_A00153.jpg\n",
            "PersonCar_SIXU_A00046.jpg  PersonCar_SIXU_A00100.jpg  PersonCar_SIXU_A00154.jpg\n",
            "PersonCar_SIXU_A00047.jpg  PersonCar_SIXU_A00101.jpg  PersonCar_SIXU_A00155.jpg\n",
            "PersonCar_SIXU_A00048.jpg  PersonCar_SIXU_A00102.jpg  PersonCar_SIXU_A00156.jpg\n",
            "PersonCar_SIXU_A00049.jpg  PersonCar_SIXU_A00103.jpg  PersonCar_SIXU_A00157.jpg\n",
            "PersonCar_SIXU_A00050.jpg  PersonCar_SIXU_A00104.jpg  PersonCar_SIXU_A00158.jpg\n",
            "PersonCar_SIXU_A00051.jpg  PersonCar_SIXU_A00105.jpg  PersonCar_SIXU_A00159.jpg\n",
            "PersonCar_SIXU_A00052.jpg  PersonCar_SIXU_A00106.jpg  PersonCar_SIXU_A00160.jpg\n",
            "PersonCar_SIXU_A00053.jpg  PersonCar_SIXU_A00107.jpg\n",
            "PersonCar_SIXU_A00054.jpg  PersonCar_SIXU_A00108.jpg\n",
            "\n",
            "/content/datasets/Train/Labels:\n",
            "PersonCar_SIXU_A00001.txt  PersonCar_SIXU_A00055.txt  PersonCar_SIXU_A00109.txt\n",
            "PersonCar_SIXU_A00002.txt  PersonCar_SIXU_A00056.txt  PersonCar_SIXU_A00110.txt\n",
            "PersonCar_SIXU_A00003.txt  PersonCar_SIXU_A00057.txt  PersonCar_SIXU_A00111.txt\n",
            "PersonCar_SIXU_A00004.txt  PersonCar_SIXU_A00058.txt  PersonCar_SIXU_A00112.txt\n",
            "PersonCar_SIXU_A00005.txt  PersonCar_SIXU_A00059.txt  PersonCar_SIXU_A00113.txt\n",
            "PersonCar_SIXU_A00006.txt  PersonCar_SIXU_A00060.txt  PersonCar_SIXU_A00114.txt\n",
            "PersonCar_SIXU_A00007.txt  PersonCar_SIXU_A00061.txt  PersonCar_SIXU_A00115.txt\n",
            "PersonCar_SIXU_A00008.txt  PersonCar_SIXU_A00062.txt  PersonCar_SIXU_A00116.txt\n",
            "PersonCar_SIXU_A00009.txt  PersonCar_SIXU_A00063.txt  PersonCar_SIXU_A00117.txt\n",
            "PersonCar_SIXU_A00010.txt  PersonCar_SIXU_A00064.txt  PersonCar_SIXU_A00118.txt\n",
            "PersonCar_SIXU_A00011.txt  PersonCar_SIXU_A00065.txt  PersonCar_SIXU_A00119.txt\n",
            "PersonCar_SIXU_A00012.txt  PersonCar_SIXU_A00066.txt  PersonCar_SIXU_A00120.txt\n",
            "PersonCar_SIXU_A00013.txt  PersonCar_SIXU_A00067.txt  PersonCar_SIXU_A00121.txt\n",
            "PersonCar_SIXU_A00014.txt  PersonCar_SIXU_A00068.txt  PersonCar_SIXU_A00122.txt\n",
            "PersonCar_SIXU_A00015.txt  PersonCar_SIXU_A00069.txt  PersonCar_SIXU_A00123.txt\n",
            "PersonCar_SIXU_A00016.txt  PersonCar_SIXU_A00070.txt  PersonCar_SIXU_A00124.txt\n",
            "PersonCar_SIXU_A00017.txt  PersonCar_SIXU_A00071.txt  PersonCar_SIXU_A00125.txt\n",
            "PersonCar_SIXU_A00018.txt  PersonCar_SIXU_A00072.txt  PersonCar_SIXU_A00126.txt\n",
            "PersonCar_SIXU_A00019.txt  PersonCar_SIXU_A00073.txt  PersonCar_SIXU_A00127.txt\n",
            "PersonCar_SIXU_A00020.txt  PersonCar_SIXU_A00074.txt  PersonCar_SIXU_A00128.txt\n",
            "PersonCar_SIXU_A00021.txt  PersonCar_SIXU_A00075.txt  PersonCar_SIXU_A00129.txt\n",
            "PersonCar_SIXU_A00022.txt  PersonCar_SIXU_A00076.txt  PersonCar_SIXU_A00130.txt\n",
            "PersonCar_SIXU_A00023.txt  PersonCar_SIXU_A00077.txt  PersonCar_SIXU_A00131.txt\n",
            "PersonCar_SIXU_A00024.txt  PersonCar_SIXU_A00078.txt  PersonCar_SIXU_A00132.txt\n",
            "PersonCar_SIXU_A00025.txt  PersonCar_SIXU_A00079.txt  PersonCar_SIXU_A00133.txt\n",
            "PersonCar_SIXU_A00026.txt  PersonCar_SIXU_A00080.txt  PersonCar_SIXU_A00134.txt\n",
            "PersonCar_SIXU_A00027.txt  PersonCar_SIXU_A00081.txt  PersonCar_SIXU_A00135.txt\n",
            "PersonCar_SIXU_A00028.txt  PersonCar_SIXU_A00082.txt  PersonCar_SIXU_A00136.txt\n",
            "PersonCar_SIXU_A00029.txt  PersonCar_SIXU_A00083.txt  PersonCar_SIXU_A00137.txt\n",
            "PersonCar_SIXU_A00030.txt  PersonCar_SIXU_A00084.txt  PersonCar_SIXU_A00138.txt\n",
            "PersonCar_SIXU_A00031.txt  PersonCar_SIXU_A00085.txt  PersonCar_SIXU_A00139.txt\n",
            "PersonCar_SIXU_A00032.txt  PersonCar_SIXU_A00086.txt  PersonCar_SIXU_A00140.txt\n",
            "PersonCar_SIXU_A00033.txt  PersonCar_SIXU_A00087.txt  PersonCar_SIXU_A00141.txt\n",
            "PersonCar_SIXU_A00034.txt  PersonCar_SIXU_A00088.txt  PersonCar_SIXU_A00142.txt\n",
            "PersonCar_SIXU_A00035.txt  PersonCar_SIXU_A00089.txt  PersonCar_SIXU_A00143.txt\n",
            "PersonCar_SIXU_A00036.txt  PersonCar_SIXU_A00090.txt  PersonCar_SIXU_A00144.txt\n",
            "PersonCar_SIXU_A00037.txt  PersonCar_SIXU_A00091.txt  PersonCar_SIXU_A00145.txt\n",
            "PersonCar_SIXU_A00038.txt  PersonCar_SIXU_A00092.txt  PersonCar_SIXU_A00146.txt\n",
            "PersonCar_SIXU_A00039.txt  PersonCar_SIXU_A00093.txt  PersonCar_SIXU_A00147.txt\n",
            "PersonCar_SIXU_A00040.txt  PersonCar_SIXU_A00094.txt  PersonCar_SIXU_A00148.txt\n",
            "PersonCar_SIXU_A00041.txt  PersonCar_SIXU_A00095.txt  PersonCar_SIXU_A00149.txt\n",
            "PersonCar_SIXU_A00042.txt  PersonCar_SIXU_A00096.txt  PersonCar_SIXU_A00150.txt\n",
            "PersonCar_SIXU_A00043.txt  PersonCar_SIXU_A00097.txt  PersonCar_SIXU_A00151.txt\n",
            "PersonCar_SIXU_A00044.txt  PersonCar_SIXU_A00098.txt  PersonCar_SIXU_A00152.txt\n",
            "PersonCar_SIXU_A00045.txt  PersonCar_SIXU_A00099.txt  PersonCar_SIXU_A00153.txt\n",
            "PersonCar_SIXU_A00046.txt  PersonCar_SIXU_A00100.txt  PersonCar_SIXU_A00154.txt\n",
            "PersonCar_SIXU_A00047.txt  PersonCar_SIXU_A00101.txt  PersonCar_SIXU_A00155.txt\n",
            "PersonCar_SIXU_A00048.txt  PersonCar_SIXU_A00102.txt  PersonCar_SIXU_A00156.txt\n",
            "PersonCar_SIXU_A00049.txt  PersonCar_SIXU_A00103.txt  PersonCar_SIXU_A00157.txt\n",
            "PersonCar_SIXU_A00050.txt  PersonCar_SIXU_A00104.txt  PersonCar_SIXU_A00158.txt\n",
            "PersonCar_SIXU_A00051.txt  PersonCar_SIXU_A00105.txt  PersonCar_SIXU_A00159.txt\n",
            "PersonCar_SIXU_A00052.txt  PersonCar_SIXU_A00106.txt  PersonCar_SIXU_A00160.txt\n",
            "PersonCar_SIXU_A00053.txt  PersonCar_SIXU_A00107.txt\n",
            "PersonCar_SIXU_A00054.txt  PersonCar_SIXU_A00108.txt\n",
            "\n",
            "/content/datasets/Val:\n",
            "Images\tLabels\n",
            "\n",
            "/content/datasets/Val/Images:\n",
            "PersonCar_SIXU_B00001.jpg  PersonCar_SIXU_B00015.jpg  PersonCar_SIXU_B00029.jpg\n",
            "PersonCar_SIXU_B00002.jpg  PersonCar_SIXU_B00016.jpg  PersonCar_SIXU_B00030.jpg\n",
            "PersonCar_SIXU_B00003.jpg  PersonCar_SIXU_B00017.jpg  PersonCar_SIXU_B00031.jpg\n",
            "PersonCar_SIXU_B00004.jpg  PersonCar_SIXU_B00018.jpg  PersonCar_SIXU_B00032.jpg\n",
            "PersonCar_SIXU_B00005.jpg  PersonCar_SIXU_B00019.jpg  PersonCar_SIXU_B00033.jpg\n",
            "PersonCar_SIXU_B00006.jpg  PersonCar_SIXU_B00020.jpg  PersonCar_SIXU_B00034.jpg\n",
            "PersonCar_SIXU_B00007.jpg  PersonCar_SIXU_B00021.jpg  PersonCar_SIXU_B00035.jpg\n",
            "PersonCar_SIXU_B00008.jpg  PersonCar_SIXU_B00022.jpg  PersonCar_SIXU_B00036.jpg\n",
            "PersonCar_SIXU_B00009.jpg  PersonCar_SIXU_B00023.jpg  PersonCar_SIXU_B00037.jpg\n",
            "PersonCar_SIXU_B00010.jpg  PersonCar_SIXU_B00024.jpg  PersonCar_SIXU_B00038.jpg\n",
            "PersonCar_SIXU_B00011.jpg  PersonCar_SIXU_B00025.jpg  PersonCar_SIXU_B00039.jpg\n",
            "PersonCar_SIXU_B00012.jpg  PersonCar_SIXU_B00026.jpg  PersonCar_SIXU_B00040.jpg\n",
            "PersonCar_SIXU_B00013.jpg  PersonCar_SIXU_B00027.jpg\n",
            "PersonCar_SIXU_B00014.jpg  PersonCar_SIXU_B00028.jpg\n",
            "\n",
            "/content/datasets/Val/Labels:\n",
            "PersonCar_SIXU_B00001.txt  PersonCar_SIXU_B00015.txt  PersonCar_SIXU_B00029.txt\n",
            "PersonCar_SIXU_B00002.txt  PersonCar_SIXU_B00016.txt  PersonCar_SIXU_B00030.txt\n",
            "PersonCar_SIXU_B00003.txt  PersonCar_SIXU_B00017.txt  PersonCar_SIXU_B00031.txt\n",
            "PersonCar_SIXU_B00004.txt  PersonCar_SIXU_B00018.txt  PersonCar_SIXU_B00032.txt\n",
            "PersonCar_SIXU_B00005.txt  PersonCar_SIXU_B00019.txt  PersonCar_SIXU_B00033.txt\n",
            "PersonCar_SIXU_B00006.txt  PersonCar_SIXU_B00020.txt  PersonCar_SIXU_B00034.txt\n",
            "PersonCar_SIXU_B00007.txt  PersonCar_SIXU_B00021.txt  PersonCar_SIXU_B00035.txt\n",
            "PersonCar_SIXU_B00008.txt  PersonCar_SIXU_B00022.txt  PersonCar_SIXU_B00036.txt\n",
            "PersonCar_SIXU_B00009.txt  PersonCar_SIXU_B00023.txt  PersonCar_SIXU_B00037.txt\n",
            "PersonCar_SIXU_B00010.txt  PersonCar_SIXU_B00024.txt  PersonCar_SIXU_B00038.txt\n",
            "PersonCar_SIXU_B00011.txt  PersonCar_SIXU_B00025.txt  PersonCar_SIXU_B00039.txt\n",
            "PersonCar_SIXU_B00012.txt  PersonCar_SIXU_B00026.txt  PersonCar_SIXU_B00040.txt\n",
            "PersonCar_SIXU_B00013.txt  PersonCar_SIXU_B00027.txt\n",
            "PersonCar_SIXU_B00014.txt  PersonCar_SIXU_B00028.txt\n"
          ]
        }
      ]
    },
    {
      "cell_type": "code",
      "source": [
        "yaml_text = \"\"\"\n",
        "test: /content/datasets/Test/Images\n",
        "train: /content/datasets/Train/Images\n",
        "val: /content/datasets/Val/Images\n",
        "\n",
        "\n",
        "nc: 2\n",
        "names: ['person', 'car']\n",
        "\"\"\"\n",
        "\n",
        "with open(\"/content/datasets/data.yaml\", \"w\") as f:\n",
        "    f.write(yaml_text)\n"
      ],
      "metadata": {
        "id": "THsHo77p4njG"
      },
      "execution_count": 18,
      "outputs": []
    },
    {
      "cell_type": "code",
      "source": [
        "from ultralytics import YOLO\n",
        "\n",
        "# Load pretrained YOLOv8 model\n",
        "model = YOLO(\"yolov8n.pt\")  # or yolov8s.pt / yolov8m.pt depending on your GPU\n",
        "\n",
        "# Train\n",
        "model.train(data=\"/content/datasets/data.yaml\", epochs=50, imgsz=640, batch=16)\n",
        "\n",
        "# Evaluate\n",
        "metrics = model.val()\n",
        "\n",
        "# Predict on test images\n",
        "results = model.predict(source=\"/content/datasets/Test/Images\", save=True, conf=0.25)\n",
        "\n"
      ],
      "metadata": {
        "colab": {
          "base_uri": "https://localhost:8080/"
        },
        "id": "_LFs6UED4qyN",
        "outputId": "1db07e49-5ee7-45fb-8c20-67737be2c60d"
      },
      "execution_count": 1,
      "outputs": [
        {
          "output_type": "stream",
          "name": "stdout",
          "text": [
            "\u001b[KDownloading https://github.com/ultralytics/assets/releases/download/v8.3.0/yolov8n.pt to 'yolov8n.pt': 100% ━━━━━━━━━━━━ 6.2MB 104.4MB/s 0.1s\n",
            "Ultralytics 8.3.202 🚀 Python-3.12.11 torch-2.8.0+cu126 CPU (Intel Xeon CPU @ 2.20GHz)\n",
            "\u001b[34m\u001b[1mengine/trainer: \u001b[0magnostic_nms=False, amp=True, augment=False, auto_augment=randaugment, batch=16, bgr=0.0, box=7.5, cache=False, cfg=None, classes=None, close_mosaic=10, cls=0.5, compile=False, conf=None, copy_paste=0.0, copy_paste_mode=flip, cos_lr=False, cutmix=0.0, data=/content/datasets/data.yaml, degrees=0.0, deterministic=True, device=cpu, dfl=1.5, dnn=False, dropout=0.0, dynamic=False, embed=None, epochs=50, erasing=0.4, exist_ok=False, fliplr=0.5, flipud=0.0, format=torchscript, fraction=1.0, freeze=None, half=False, hsv_h=0.015, hsv_s=0.7, hsv_v=0.4, imgsz=640, int8=False, iou=0.7, keras=False, kobj=1.0, line_width=None, lr0=0.01, lrf=0.01, mask_ratio=4, max_det=300, mixup=0.0, mode=train, model=yolov8n.pt, momentum=0.937, mosaic=1.0, multi_scale=False, name=train2, nbs=64, nms=False, opset=None, optimize=False, optimizer=auto, overlap_mask=True, patience=100, perspective=0.0, plots=True, pose=12.0, pretrained=True, profile=False, project=None, rect=False, resume=False, retina_masks=False, save=True, save_conf=False, save_crop=False, save_dir=/content/runs/detect/train2, save_frames=False, save_json=False, save_period=-1, save_txt=False, scale=0.5, seed=0, shear=0.0, show=False, show_boxes=True, show_conf=True, show_labels=True, simplify=True, single_cls=False, source=None, split=val, stream_buffer=False, task=detect, time=None, tracker=botsort.yaml, translate=0.1, val=True, verbose=True, vid_stride=1, visualize=False, warmup_bias_lr=0.1, warmup_epochs=3.0, warmup_momentum=0.8, weight_decay=0.0005, workers=8, workspace=None\n",
            "Overriding model.yaml nc=80 with nc=2\n",
            "\n",
            "                   from  n    params  module                                       arguments                     \n",
            "  0                  -1  1       464  ultralytics.nn.modules.conv.Conv             [3, 16, 3, 2]                 \n",
            "  1                  -1  1      4672  ultralytics.nn.modules.conv.Conv             [16, 32, 3, 2]                \n",
            "  2                  -1  1      7360  ultralytics.nn.modules.block.C2f             [32, 32, 1, True]             \n",
            "  3                  -1  1     18560  ultralytics.nn.modules.conv.Conv             [32, 64, 3, 2]                \n",
            "  4                  -1  2     49664  ultralytics.nn.modules.block.C2f             [64, 64, 2, True]             \n",
            "  5                  -1  1     73984  ultralytics.nn.modules.conv.Conv             [64, 128, 3, 2]               \n",
            "  6                  -1  2    197632  ultralytics.nn.modules.block.C2f             [128, 128, 2, True]           \n",
            "  7                  -1  1    295424  ultralytics.nn.modules.conv.Conv             [128, 256, 3, 2]              \n",
            "  8                  -1  1    460288  ultralytics.nn.modules.block.C2f             [256, 256, 1, True]           \n",
            "  9                  -1  1    164608  ultralytics.nn.modules.block.SPPF            [256, 256, 5]                 \n",
            " 10                  -1  1         0  torch.nn.modules.upsampling.Upsample         [None, 2, 'nearest']          \n",
            " 11             [-1, 6]  1         0  ultralytics.nn.modules.conv.Concat           [1]                           \n",
            " 12                  -1  1    148224  ultralytics.nn.modules.block.C2f             [384, 128, 1]                 \n",
            " 13                  -1  1         0  torch.nn.modules.upsampling.Upsample         [None, 2, 'nearest']          \n",
            " 14             [-1, 4]  1         0  ultralytics.nn.modules.conv.Concat           [1]                           \n",
            " 15                  -1  1     37248  ultralytics.nn.modules.block.C2f             [192, 64, 1]                  \n",
            " 16                  -1  1     36992  ultralytics.nn.modules.conv.Conv             [64, 64, 3, 2]                \n",
            " 17            [-1, 12]  1         0  ultralytics.nn.modules.conv.Concat           [1]                           \n",
            " 18                  -1  1    123648  ultralytics.nn.modules.block.C2f             [192, 128, 1]                 \n",
            " 19                  -1  1    147712  ultralytics.nn.modules.conv.Conv             [128, 128, 3, 2]              \n",
            " 20             [-1, 9]  1         0  ultralytics.nn.modules.conv.Concat           [1]                           \n",
            " 21                  -1  1    493056  ultralytics.nn.modules.block.C2f             [384, 256, 1]                 \n",
            " 22        [15, 18, 21]  1    751702  ultralytics.nn.modules.head.Detect           [2, [64, 128, 256]]           \n",
            "Model summary: 129 layers, 3,011,238 parameters, 3,011,222 gradients, 8.2 GFLOPs\n",
            "\n",
            "Transferred 319/355 items from pretrained weights\n",
            "Freezing layer 'model.22.dfl.conv.weight'\n",
            "\u001b[34m\u001b[1mtrain: \u001b[0mFast image access ✅ (ping: 0.0±0.0 ms, read: 53.2±17.9 MB/s, size: 159.6 KB)\n",
            "\u001b[K\u001b[34m\u001b[1mtrain: \u001b[0mScanning /content/datasets/Train/Images.cache... 0 images, 160 backgrounds, 0 corrupt: 100% ━━━━━━━━━━━━ 160/160 218.7Kit/s 0.0s\n",
            "WARNING ⚠️ Labels are missing or empty in /content/datasets/Train/Images.cache, training may not work correctly. See https://docs.ultralytics.com/datasets for dataset formatting guidance.\n",
            "\u001b[34m\u001b[1malbumentations: \u001b[0mBlur(p=0.01, blur_limit=(3, 7)), MedianBlur(p=0.01, blur_limit=(3, 7)), ToGray(p=0.01, method='weighted_average', num_output_channels=3), CLAHE(p=0.01, clip_limit=(1.0, 4.0), tile_grid_size=(8, 8))\n",
            "\u001b[34m\u001b[1mval: \u001b[0mFast image access ✅ (ping: 0.0±0.0 ms, read: 57.1±24.2 MB/s, size: 188.8 KB)\n",
            "\u001b[K\u001b[34m\u001b[1mval: \u001b[0mScanning /content/datasets/Val/Images.cache... 0 images, 40 backgrounds, 0 corrupt: 100% ━━━━━━━━━━━━ 40/40 61.4Kit/s 0.0s\n",
            "WARNING ⚠️ Labels are missing or empty in /content/datasets/Val/Images.cache, training may not work correctly. See https://docs.ultralytics.com/datasets for dataset formatting guidance.\n",
            "Plotting labels to /content/runs/detect/train2/labels.jpg... \n",
            "WARNING ⚠️ zero-size array to reduction operation maximum which has no identity\n",
            "\u001b[34m\u001b[1moptimizer:\u001b[0m 'optimizer=auto' found, ignoring 'lr0=0.01' and 'momentum=0.937' and determining best 'optimizer', 'lr0' and 'momentum' automatically... \n",
            "\u001b[34m\u001b[1moptimizer:\u001b[0m AdamW(lr=0.001667, momentum=0.9) with parameter groups 57 weight(decay=0.0), 64 weight(decay=0.0005), 63 bias(decay=0.0)\n",
            "Image sizes 640 train, 640 val\n",
            "Using 0 dataloader workers\n",
            "Logging results to \u001b[1m/content/runs/detect/train2\u001b[0m\n",
            "Starting training for 50 epochs...\n",
            "\n",
            "      Epoch    GPU_mem   box_loss   cls_loss   dfl_loss  Instances       Size\n",
            "\u001b[K       1/50         0G          0      124.5          0          0        640: 100% ━━━━━━━━━━━━ 10/10 0.1it/s 2:24\n",
            "\u001b[K                 Class     Images  Instances      Box(P          R      mAP50  mAP50-95): 100% ━━━━━━━━━━━━ 2/2 0.2it/s 12.3s\n",
            "                   all         40          0          0          0          0          0\n",
            "WARNING ⚠️ no labels found in detect set, can not compute metrics without labels\n"
          ]
        },
        {
          "output_type": "stream",
          "name": "stderr",
          "text": [
            "/usr/local/lib/python3.12/dist-packages/ultralytics/utils/metrics.py:850: RuntimeWarning: Mean of empty slice.\n",
            "  i = smooth(f1_curve.mean(0), 0.1).argmax()  # max F1 index\n",
            "/usr/local/lib/python3.12/dist-packages/numpy/_core/_methods.py:130: RuntimeWarning: invalid value encountered in divide\n",
            "  ret = um.true_divide(\n"
          ]
        },
        {
          "output_type": "stream",
          "name": "stdout",
          "text": [
            "\n",
            "      Epoch    GPU_mem   box_loss   cls_loss   dfl_loss  Instances       Size\n",
            "\u001b[K       2/50         0G          0      113.3          0          0        640: 100% ━━━━━━━━━━━━ 10/10 0.1it/s 2:13\n",
            "\u001b[K                 Class     Images  Instances      Box(P          R      mAP50  mAP50-95): 100% ━━━━━━━━━━━━ 2/2 0.2it/s 11.5s\n",
            "                   all         40          0          0          0          0          0\n",
            "WARNING ⚠️ no labels found in detect set, can not compute metrics without labels\n"
          ]
        },
        {
          "output_type": "stream",
          "name": "stderr",
          "text": [
            "/usr/local/lib/python3.12/dist-packages/ultralytics/utils/metrics.py:850: RuntimeWarning: Mean of empty slice.\n",
            "  i = smooth(f1_curve.mean(0), 0.1).argmax()  # max F1 index\n",
            "/usr/local/lib/python3.12/dist-packages/numpy/_core/_methods.py:130: RuntimeWarning: invalid value encountered in divide\n",
            "  ret = um.true_divide(\n"
          ]
        },
        {
          "output_type": "stream",
          "name": "stdout",
          "text": [
            "\n",
            "      Epoch    GPU_mem   box_loss   cls_loss   dfl_loss  Instances       Size\n",
            "\u001b[K       3/50         0G          0      102.3          0          0        640: 100% ━━━━━━━━━━━━ 10/10 0.1it/s 2:13\n",
            "\u001b[K                 Class     Images  Instances      Box(P          R      mAP50  mAP50-95): 100% ━━━━━━━━━━━━ 2/2 0.2it/s 12.1s\n",
            "                   all         40          0          0          0          0          0\n",
            "WARNING ⚠️ no labels found in detect set, can not compute metrics without labels\n"
          ]
        },
        {
          "output_type": "stream",
          "name": "stderr",
          "text": [
            "/usr/local/lib/python3.12/dist-packages/ultralytics/utils/metrics.py:850: RuntimeWarning: Mean of empty slice.\n",
            "  i = smooth(f1_curve.mean(0), 0.1).argmax()  # max F1 index\n",
            "/usr/local/lib/python3.12/dist-packages/numpy/_core/_methods.py:130: RuntimeWarning: invalid value encountered in divide\n",
            "  ret = um.true_divide(\n"
          ]
        },
        {
          "output_type": "stream",
          "name": "stdout",
          "text": [
            "\n",
            "      Epoch    GPU_mem   box_loss   cls_loss   dfl_loss  Instances       Size\n",
            "\u001b[K       4/50         0G          0      97.59          0          0        640: 100% ━━━━━━━━━━━━ 10/10 0.1it/s 2:18\n",
            "\u001b[K                 Class     Images  Instances      Box(P          R      mAP50  mAP50-95): 100% ━━━━━━━━━━━━ 2/2 0.2it/s 11.9s\n",
            "                   all         40          0          0          0          0          0\n",
            "WARNING ⚠️ no labels found in detect set, can not compute metrics without labels\n"
          ]
        },
        {
          "output_type": "stream",
          "name": "stderr",
          "text": [
            "/usr/local/lib/python3.12/dist-packages/ultralytics/utils/metrics.py:850: RuntimeWarning: Mean of empty slice.\n",
            "  i = smooth(f1_curve.mean(0), 0.1).argmax()  # max F1 index\n",
            "/usr/local/lib/python3.12/dist-packages/numpy/_core/_methods.py:130: RuntimeWarning: invalid value encountered in divide\n",
            "  ret = um.true_divide(\n"
          ]
        },
        {
          "output_type": "stream",
          "name": "stdout",
          "text": [
            "\n",
            "      Epoch    GPU_mem   box_loss   cls_loss   dfl_loss  Instances       Size\n",
            "\u001b[K       5/50         0G          0      89.51          0          0        640: 100% ━━━━━━━━━━━━ 10/10 0.1it/s 2:10\n",
            "\u001b[K                 Class     Images  Instances      Box(P          R      mAP50  mAP50-95): 100% ━━━━━━━━━━━━ 2/2 0.2it/s 10.4s\n",
            "                   all         40          0          0          0          0          0\n",
            "WARNING ⚠️ no labels found in detect set, can not compute metrics without labels\n"
          ]
        },
        {
          "output_type": "stream",
          "name": "stderr",
          "text": [
            "/usr/local/lib/python3.12/dist-packages/ultralytics/utils/metrics.py:850: RuntimeWarning: Mean of empty slice.\n",
            "  i = smooth(f1_curve.mean(0), 0.1).argmax()  # max F1 index\n",
            "/usr/local/lib/python3.12/dist-packages/numpy/_core/_methods.py:130: RuntimeWarning: invalid value encountered in divide\n",
            "  ret = um.true_divide(\n"
          ]
        },
        {
          "output_type": "stream",
          "name": "stdout",
          "text": [
            "\n",
            "      Epoch    GPU_mem   box_loss   cls_loss   dfl_loss  Instances       Size\n",
            "\u001b[K       6/50         0G          0      84.74          0          0        640: 100% ━━━━━━━━━━━━ 10/10 0.1it/s 2:10\n",
            "\u001b[K                 Class     Images  Instances      Box(P          R      mAP50  mAP50-95): 100% ━━━━━━━━━━━━ 2/2 0.2it/s 11.1s\n",
            "                   all         40          0          0          0          0          0\n",
            "WARNING ⚠️ no labels found in detect set, can not compute metrics without labels\n"
          ]
        },
        {
          "output_type": "stream",
          "name": "stderr",
          "text": [
            "/usr/local/lib/python3.12/dist-packages/ultralytics/utils/metrics.py:850: RuntimeWarning: Mean of empty slice.\n",
            "  i = smooth(f1_curve.mean(0), 0.1).argmax()  # max F1 index\n",
            "/usr/local/lib/python3.12/dist-packages/numpy/_core/_methods.py:130: RuntimeWarning: invalid value encountered in divide\n",
            "  ret = um.true_divide(\n"
          ]
        },
        {
          "output_type": "stream",
          "name": "stdout",
          "text": [
            "\n",
            "      Epoch    GPU_mem   box_loss   cls_loss   dfl_loss  Instances       Size\n",
            "\u001b[K       7/50         0G          0      81.19          0          0        640: 100% ━━━━━━━━━━━━ 10/10 0.1it/s 2:09\n",
            "\u001b[K                 Class     Images  Instances      Box(P          R      mAP50  mAP50-95): 100% ━━━━━━━━━━━━ 2/2 0.2it/s 10.9s\n",
            "                   all         40          0          0          0          0          0\n",
            "WARNING ⚠️ no labels found in detect set, can not compute metrics without labels\n"
          ]
        },
        {
          "output_type": "stream",
          "name": "stderr",
          "text": [
            "/usr/local/lib/python3.12/dist-packages/ultralytics/utils/metrics.py:850: RuntimeWarning: Mean of empty slice.\n",
            "  i = smooth(f1_curve.mean(0), 0.1).argmax()  # max F1 index\n",
            "/usr/local/lib/python3.12/dist-packages/numpy/_core/_methods.py:130: RuntimeWarning: invalid value encountered in divide\n",
            "  ret = um.true_divide(\n"
          ]
        },
        {
          "output_type": "stream",
          "name": "stdout",
          "text": [
            "\n",
            "      Epoch    GPU_mem   box_loss   cls_loss   dfl_loss  Instances       Size\n",
            "\u001b[K       8/50         0G          0       79.1          0          0        640: 100% ━━━━━━━━━━━━ 10/10 0.1it/s 2:09\n",
            "\u001b[K                 Class     Images  Instances      Box(P          R      mAP50  mAP50-95): 100% ━━━━━━━━━━━━ 2/2 0.2it/s 11.5s\n",
            "                   all         40          0          0          0          0          0\n",
            "WARNING ⚠️ no labels found in detect set, can not compute metrics without labels\n"
          ]
        },
        {
          "output_type": "stream",
          "name": "stderr",
          "text": [
            "/usr/local/lib/python3.12/dist-packages/ultralytics/utils/metrics.py:850: RuntimeWarning: Mean of empty slice.\n",
            "  i = smooth(f1_curve.mean(0), 0.1).argmax()  # max F1 index\n",
            "/usr/local/lib/python3.12/dist-packages/numpy/_core/_methods.py:130: RuntimeWarning: invalid value encountered in divide\n",
            "  ret = um.true_divide(\n"
          ]
        },
        {
          "output_type": "stream",
          "name": "stdout",
          "text": [
            "\n",
            "      Epoch    GPU_mem   box_loss   cls_loss   dfl_loss  Instances       Size\n",
            "\u001b[K       9/50         0G          0      74.73          0          0        640: 100% ━━━━━━━━━━━━ 10/10 0.1it/s 2:10\n",
            "\u001b[K                 Class     Images  Instances      Box(P          R      mAP50  mAP50-95): 100% ━━━━━━━━━━━━ 2/2 0.2it/s 12.1s\n",
            "                   all         40          0          0          0          0          0\n",
            "WARNING ⚠️ no labels found in detect set, can not compute metrics without labels\n"
          ]
        },
        {
          "output_type": "stream",
          "name": "stderr",
          "text": [
            "/usr/local/lib/python3.12/dist-packages/ultralytics/utils/metrics.py:850: RuntimeWarning: Mean of empty slice.\n",
            "  i = smooth(f1_curve.mean(0), 0.1).argmax()  # max F1 index\n",
            "/usr/local/lib/python3.12/dist-packages/numpy/_core/_methods.py:130: RuntimeWarning: invalid value encountered in divide\n",
            "  ret = um.true_divide(\n"
          ]
        },
        {
          "output_type": "stream",
          "name": "stdout",
          "text": [
            "\n",
            "      Epoch    GPU_mem   box_loss   cls_loss   dfl_loss  Instances       Size\n",
            "\u001b[K      10/50         0G          0      71.61          0          0        640: 100% ━━━━━━━━━━━━ 10/10 0.1it/s 2:21\n",
            "\u001b[K                 Class     Images  Instances      Box(P          R      mAP50  mAP50-95): 100% ━━━━━━━━━━━━ 2/2 0.2it/s 12.1s\n",
            "                   all         40          0          0          0          0          0\n",
            "WARNING ⚠️ no labels found in detect set, can not compute metrics without labels\n"
          ]
        },
        {
          "output_type": "stream",
          "name": "stderr",
          "text": [
            "/usr/local/lib/python3.12/dist-packages/ultralytics/utils/metrics.py:850: RuntimeWarning: Mean of empty slice.\n",
            "  i = smooth(f1_curve.mean(0), 0.1).argmax()  # max F1 index\n",
            "/usr/local/lib/python3.12/dist-packages/numpy/_core/_methods.py:130: RuntimeWarning: invalid value encountered in divide\n",
            "  ret = um.true_divide(\n"
          ]
        },
        {
          "output_type": "stream",
          "name": "stdout",
          "text": [
            "\n",
            "      Epoch    GPU_mem   box_loss   cls_loss   dfl_loss  Instances       Size\n",
            "\u001b[K      11/50         0G          0      67.95          0          0        640: 100% ━━━━━━━━━━━━ 10/10 0.1it/s 2:12\n",
            "\u001b[K                 Class     Images  Instances      Box(P          R      mAP50  mAP50-95): 100% ━━━━━━━━━━━━ 2/2 0.2it/s 11.0s\n",
            "                   all         40          0          0          0          0          0\n",
            "WARNING ⚠️ no labels found in detect set, can not compute metrics without labels\n"
          ]
        },
        {
          "output_type": "stream",
          "name": "stderr",
          "text": [
            "/usr/local/lib/python3.12/dist-packages/ultralytics/utils/metrics.py:850: RuntimeWarning: Mean of empty slice.\n",
            "  i = smooth(f1_curve.mean(0), 0.1).argmax()  # max F1 index\n",
            "/usr/local/lib/python3.12/dist-packages/numpy/_core/_methods.py:130: RuntimeWarning: invalid value encountered in divide\n",
            "  ret = um.true_divide(\n"
          ]
        },
        {
          "output_type": "stream",
          "name": "stdout",
          "text": [
            "\n",
            "      Epoch    GPU_mem   box_loss   cls_loss   dfl_loss  Instances       Size\n",
            "\u001b[K      12/50         0G          0      65.14          0          0        640: 100% ━━━━━━━━━━━━ 10/10 0.1it/s 2:15\n",
            "\u001b[K                 Class     Images  Instances      Box(P          R      mAP50  mAP50-95): 100% ━━━━━━━━━━━━ 2/2 0.2it/s 11.4s\n",
            "                   all         40          0          0          0          0          0\n",
            "WARNING ⚠️ no labels found in detect set, can not compute metrics without labels\n"
          ]
        },
        {
          "output_type": "stream",
          "name": "stderr",
          "text": [
            "/usr/local/lib/python3.12/dist-packages/ultralytics/utils/metrics.py:850: RuntimeWarning: Mean of empty slice.\n",
            "  i = smooth(f1_curve.mean(0), 0.1).argmax()  # max F1 index\n",
            "/usr/local/lib/python3.12/dist-packages/numpy/_core/_methods.py:130: RuntimeWarning: invalid value encountered in divide\n",
            "  ret = um.true_divide(\n"
          ]
        },
        {
          "output_type": "stream",
          "name": "stdout",
          "text": [
            "\n",
            "      Epoch    GPU_mem   box_loss   cls_loss   dfl_loss  Instances       Size\n",
            "\u001b[K      13/50         0G          0      61.56          0          0        640: 100% ━━━━━━━━━━━━ 10/10 0.1it/s 2:15\n",
            "\u001b[K                 Class     Images  Instances      Box(P          R      mAP50  mAP50-95): 100% ━━━━━━━━━━━━ 2/2 0.2it/s 11.2s\n",
            "                   all         40          0          0          0          0          0\n",
            "WARNING ⚠️ no labels found in detect set, can not compute metrics without labels\n"
          ]
        },
        {
          "output_type": "stream",
          "name": "stderr",
          "text": [
            "/usr/local/lib/python3.12/dist-packages/ultralytics/utils/metrics.py:850: RuntimeWarning: Mean of empty slice.\n",
            "  i = smooth(f1_curve.mean(0), 0.1).argmax()  # max F1 index\n",
            "/usr/local/lib/python3.12/dist-packages/numpy/_core/_methods.py:130: RuntimeWarning: invalid value encountered in divide\n",
            "  ret = um.true_divide(\n"
          ]
        },
        {
          "output_type": "stream",
          "name": "stdout",
          "text": [
            "\n",
            "      Epoch    GPU_mem   box_loss   cls_loss   dfl_loss  Instances       Size\n",
            "\u001b[K      14/50         0G          0      58.67          0          0        640: 100% ━━━━━━━━━━━━ 10/10 0.1it/s 2:13\n",
            "\u001b[K                 Class     Images  Instances      Box(P          R      mAP50  mAP50-95): 100% ━━━━━━━━━━━━ 2/2 0.2it/s 10.7s\n",
            "                   all         40          0          0          0          0          0\n",
            "WARNING ⚠️ no labels found in detect set, can not compute metrics without labels\n"
          ]
        },
        {
          "output_type": "stream",
          "name": "stderr",
          "text": [
            "/usr/local/lib/python3.12/dist-packages/ultralytics/utils/metrics.py:850: RuntimeWarning: Mean of empty slice.\n",
            "  i = smooth(f1_curve.mean(0), 0.1).argmax()  # max F1 index\n",
            "/usr/local/lib/python3.12/dist-packages/numpy/_core/_methods.py:130: RuntimeWarning: invalid value encountered in divide\n",
            "  ret = um.true_divide(\n"
          ]
        },
        {
          "output_type": "stream",
          "name": "stdout",
          "text": [
            "\n",
            "      Epoch    GPU_mem   box_loss   cls_loss   dfl_loss  Instances       Size\n",
            "\u001b[K      15/50         0G          0      55.82          0          0        640: 100% ━━━━━━━━━━━━ 10/10 0.1it/s 2:10\n",
            "\u001b[K                 Class     Images  Instances      Box(P          R      mAP50  mAP50-95): 100% ━━━━━━━━━━━━ 2/2 0.2it/s 10.9s\n",
            "                   all         40          0          0          0          0          0\n",
            "WARNING ⚠️ no labels found in detect set, can not compute metrics without labels\n"
          ]
        },
        {
          "output_type": "stream",
          "name": "stderr",
          "text": [
            "/usr/local/lib/python3.12/dist-packages/ultralytics/utils/metrics.py:850: RuntimeWarning: Mean of empty slice.\n",
            "  i = smooth(f1_curve.mean(0), 0.1).argmax()  # max F1 index\n",
            "/usr/local/lib/python3.12/dist-packages/numpy/_core/_methods.py:130: RuntimeWarning: invalid value encountered in divide\n",
            "  ret = um.true_divide(\n"
          ]
        },
        {
          "output_type": "stream",
          "name": "stdout",
          "text": [
            "\n",
            "      Epoch    GPU_mem   box_loss   cls_loss   dfl_loss  Instances       Size\n",
            "\u001b[K      16/50         0G          0      52.99          0          0        640: 100% ━━━━━━━━━━━━ 10/10 0.1it/s 2:11\n",
            "\u001b[K                 Class     Images  Instances      Box(P          R      mAP50  mAP50-95): 100% ━━━━━━━━━━━━ 2/2 0.2it/s 10.2s\n",
            "                   all         40          0          0          0          0          0\n",
            "WARNING ⚠️ no labels found in detect set, can not compute metrics without labels\n"
          ]
        },
        {
          "output_type": "stream",
          "name": "stderr",
          "text": [
            "/usr/local/lib/python3.12/dist-packages/ultralytics/utils/metrics.py:850: RuntimeWarning: Mean of empty slice.\n",
            "  i = smooth(f1_curve.mean(0), 0.1).argmax()  # max F1 index\n",
            "/usr/local/lib/python3.12/dist-packages/numpy/_core/_methods.py:130: RuntimeWarning: invalid value encountered in divide\n",
            "  ret = um.true_divide(\n"
          ]
        },
        {
          "output_type": "stream",
          "name": "stdout",
          "text": [
            "\n",
            "      Epoch    GPU_mem   box_loss   cls_loss   dfl_loss  Instances       Size\n",
            "\u001b[K      17/50         0G          0      50.37          0          0        640: 100% ━━━━━━━━━━━━ 10/10 0.1it/s 2:10\n",
            "\u001b[K                 Class     Images  Instances      Box(P          R      mAP50  mAP50-95): 100% ━━━━━━━━━━━━ 2/2 0.2it/s 10.3s\n",
            "                   all         40          0          0          0          0          0\n",
            "WARNING ⚠️ no labels found in detect set, can not compute metrics without labels\n"
          ]
        },
        {
          "output_type": "stream",
          "name": "stderr",
          "text": [
            "/usr/local/lib/python3.12/dist-packages/ultralytics/utils/metrics.py:850: RuntimeWarning: Mean of empty slice.\n",
            "  i = smooth(f1_curve.mean(0), 0.1).argmax()  # max F1 index\n",
            "/usr/local/lib/python3.12/dist-packages/numpy/_core/_methods.py:130: RuntimeWarning: invalid value encountered in divide\n",
            "  ret = um.true_divide(\n"
          ]
        },
        {
          "output_type": "stream",
          "name": "stdout",
          "text": [
            "\n",
            "      Epoch    GPU_mem   box_loss   cls_loss   dfl_loss  Instances       Size\n",
            "\u001b[K      18/50         0G          0      48.18          0          0        640: 100% ━━━━━━━━━━━━ 10/10 0.1it/s 2:15\n",
            "\u001b[K                 Class     Images  Instances      Box(P          R      mAP50  mAP50-95): 100% ━━━━━━━━━━━━ 2/2 0.2it/s 11.0s\n",
            "                   all         40          0          0          0          0          0\n",
            "WARNING ⚠️ no labels found in detect set, can not compute metrics without labels\n"
          ]
        },
        {
          "output_type": "stream",
          "name": "stderr",
          "text": [
            "/usr/local/lib/python3.12/dist-packages/ultralytics/utils/metrics.py:850: RuntimeWarning: Mean of empty slice.\n",
            "  i = smooth(f1_curve.mean(0), 0.1).argmax()  # max F1 index\n",
            "/usr/local/lib/python3.12/dist-packages/numpy/_core/_methods.py:130: RuntimeWarning: invalid value encountered in divide\n",
            "  ret = um.true_divide(\n"
          ]
        },
        {
          "output_type": "stream",
          "name": "stdout",
          "text": [
            "\n",
            "      Epoch    GPU_mem   box_loss   cls_loss   dfl_loss  Instances       Size\n",
            "\u001b[K      19/50         0G          0      45.87          0          0        640: 100% ━━━━━━━━━━━━ 10/10 0.1it/s 2:13\n",
            "\u001b[K                 Class     Images  Instances      Box(P          R      mAP50  mAP50-95): 100% ━━━━━━━━━━━━ 2/2 0.2it/s 11.2s\n",
            "                   all         40          0          0          0          0          0\n",
            "WARNING ⚠️ no labels found in detect set, can not compute metrics without labels\n"
          ]
        },
        {
          "output_type": "stream",
          "name": "stderr",
          "text": [
            "/usr/local/lib/python3.12/dist-packages/ultralytics/utils/metrics.py:850: RuntimeWarning: Mean of empty slice.\n",
            "  i = smooth(f1_curve.mean(0), 0.1).argmax()  # max F1 index\n",
            "/usr/local/lib/python3.12/dist-packages/numpy/_core/_methods.py:130: RuntimeWarning: invalid value encountered in divide\n",
            "  ret = um.true_divide(\n"
          ]
        },
        {
          "output_type": "stream",
          "name": "stdout",
          "text": [
            "\n",
            "      Epoch    GPU_mem   box_loss   cls_loss   dfl_loss  Instances       Size\n",
            "\u001b[K      20/50         0G          0      43.85          0          0        640: 100% ━━━━━━━━━━━━ 10/10 0.1it/s 2:14\n",
            "\u001b[K                 Class     Images  Instances      Box(P          R      mAP50  mAP50-95): 100% ━━━━━━━━━━━━ 2/2 0.2it/s 10.7s\n",
            "                   all         40          0          0          0          0          0\n",
            "WARNING ⚠️ no labels found in detect set, can not compute metrics without labels\n"
          ]
        },
        {
          "output_type": "stream",
          "name": "stderr",
          "text": [
            "/usr/local/lib/python3.12/dist-packages/ultralytics/utils/metrics.py:850: RuntimeWarning: Mean of empty slice.\n",
            "  i = smooth(f1_curve.mean(0), 0.1).argmax()  # max F1 index\n",
            "/usr/local/lib/python3.12/dist-packages/numpy/_core/_methods.py:130: RuntimeWarning: invalid value encountered in divide\n",
            "  ret = um.true_divide(\n"
          ]
        },
        {
          "output_type": "stream",
          "name": "stdout",
          "text": [
            "\n",
            "      Epoch    GPU_mem   box_loss   cls_loss   dfl_loss  Instances       Size\n",
            "\u001b[K      21/50         0G          0      41.67          0          0        640: 100% ━━━━━━━━━━━━ 10/10 0.1it/s 2:13\n",
            "\u001b[K                 Class     Images  Instances      Box(P          R      mAP50  mAP50-95): 100% ━━━━━━━━━━━━ 2/2 0.2it/s 10.5s\n",
            "                   all         40          0          0          0          0          0\n",
            "WARNING ⚠️ no labels found in detect set, can not compute metrics without labels\n"
          ]
        },
        {
          "output_type": "stream",
          "name": "stderr",
          "text": [
            "/usr/local/lib/python3.12/dist-packages/ultralytics/utils/metrics.py:850: RuntimeWarning: Mean of empty slice.\n",
            "  i = smooth(f1_curve.mean(0), 0.1).argmax()  # max F1 index\n",
            "/usr/local/lib/python3.12/dist-packages/numpy/_core/_methods.py:130: RuntimeWarning: invalid value encountered in divide\n",
            "  ret = um.true_divide(\n"
          ]
        },
        {
          "output_type": "stream",
          "name": "stdout",
          "text": [
            "\n",
            "      Epoch    GPU_mem   box_loss   cls_loss   dfl_loss  Instances       Size\n",
            "\u001b[K      22/50         0G          0      39.78          0          0        640: 100% ━━━━━━━━━━━━ 10/10 0.1it/s 2:11\n",
            "\u001b[K                 Class     Images  Instances      Box(P          R      mAP50  mAP50-95): 100% ━━━━━━━━━━━━ 2/2 0.2it/s 10.4s\n",
            "                   all         40          0          0          0          0          0\n",
            "WARNING ⚠️ no labels found in detect set, can not compute metrics without labels\n"
          ]
        },
        {
          "output_type": "stream",
          "name": "stderr",
          "text": [
            "/usr/local/lib/python3.12/dist-packages/ultralytics/utils/metrics.py:850: RuntimeWarning: Mean of empty slice.\n",
            "  i = smooth(f1_curve.mean(0), 0.1).argmax()  # max F1 index\n",
            "/usr/local/lib/python3.12/dist-packages/numpy/_core/_methods.py:130: RuntimeWarning: invalid value encountered in divide\n",
            "  ret = um.true_divide(\n"
          ]
        },
        {
          "output_type": "stream",
          "name": "stdout",
          "text": [
            "\n",
            "      Epoch    GPU_mem   box_loss   cls_loss   dfl_loss  Instances       Size\n",
            "\u001b[K      23/50         0G          0      37.94          0          0        640: 100% ━━━━━━━━━━━━ 10/10 0.1it/s 2:12\n",
            "\u001b[K                 Class     Images  Instances      Box(P          R      mAP50  mAP50-95): 100% ━━━━━━━━━━━━ 2/2 0.2it/s 10.5s\n",
            "                   all         40          0          0          0          0          0\n",
            "WARNING ⚠️ no labels found in detect set, can not compute metrics without labels\n"
          ]
        },
        {
          "output_type": "stream",
          "name": "stderr",
          "text": [
            "/usr/local/lib/python3.12/dist-packages/ultralytics/utils/metrics.py:850: RuntimeWarning: Mean of empty slice.\n",
            "  i = smooth(f1_curve.mean(0), 0.1).argmax()  # max F1 index\n",
            "/usr/local/lib/python3.12/dist-packages/numpy/_core/_methods.py:130: RuntimeWarning: invalid value encountered in divide\n",
            "  ret = um.true_divide(\n"
          ]
        },
        {
          "output_type": "stream",
          "name": "stdout",
          "text": [
            "\n",
            "      Epoch    GPU_mem   box_loss   cls_loss   dfl_loss  Instances       Size\n",
            "\u001b[K      24/50         0G          0       36.8          0          0        640: 100% ━━━━━━━━━━━━ 10/10 0.1it/s 2:11\n",
            "\u001b[K                 Class     Images  Instances      Box(P          R      mAP50  mAP50-95): 100% ━━━━━━━━━━━━ 2/2 0.2it/s 10.4s\n",
            "                   all         40          0          0          0          0          0\n",
            "WARNING ⚠️ no labels found in detect set, can not compute metrics without labels\n"
          ]
        },
        {
          "output_type": "stream",
          "name": "stderr",
          "text": [
            "/usr/local/lib/python3.12/dist-packages/ultralytics/utils/metrics.py:850: RuntimeWarning: Mean of empty slice.\n",
            "  i = smooth(f1_curve.mean(0), 0.1).argmax()  # max F1 index\n",
            "/usr/local/lib/python3.12/dist-packages/numpy/_core/_methods.py:130: RuntimeWarning: invalid value encountered in divide\n",
            "  ret = um.true_divide(\n"
          ]
        },
        {
          "output_type": "stream",
          "name": "stdout",
          "text": [
            "\n",
            "      Epoch    GPU_mem   box_loss   cls_loss   dfl_loss  Instances       Size\n",
            "\u001b[K      25/50         0G          0      34.87          0          0        640: 100% ━━━━━━━━━━━━ 10/10 0.1it/s 2:13\n",
            "\u001b[K                 Class     Images  Instances      Box(P          R      mAP50  mAP50-95): 100% ━━━━━━━━━━━━ 2/2 0.2it/s 10.3s\n",
            "                   all         40          0          0          0          0          0\n",
            "WARNING ⚠️ no labels found in detect set, can not compute metrics without labels\n"
          ]
        },
        {
          "output_type": "stream",
          "name": "stderr",
          "text": [
            "/usr/local/lib/python3.12/dist-packages/ultralytics/utils/metrics.py:850: RuntimeWarning: Mean of empty slice.\n",
            "  i = smooth(f1_curve.mean(0), 0.1).argmax()  # max F1 index\n",
            "/usr/local/lib/python3.12/dist-packages/numpy/_core/_methods.py:130: RuntimeWarning: invalid value encountered in divide\n",
            "  ret = um.true_divide(\n"
          ]
        },
        {
          "output_type": "stream",
          "name": "stdout",
          "text": [
            "\n",
            "      Epoch    GPU_mem   box_loss   cls_loss   dfl_loss  Instances       Size\n",
            "\u001b[K      26/50         0G          0      33.42          0          0        640: 100% ━━━━━━━━━━━━ 10/10 0.1it/s 2:12\n",
            "\u001b[K                 Class     Images  Instances      Box(P          R      mAP50  mAP50-95): 100% ━━━━━━━━━━━━ 2/2 0.2it/s 10.3s\n",
            "                   all         40          0          0          0          0          0\n",
            "WARNING ⚠️ no labels found in detect set, can not compute metrics without labels\n"
          ]
        },
        {
          "output_type": "stream",
          "name": "stderr",
          "text": [
            "/usr/local/lib/python3.12/dist-packages/ultralytics/utils/metrics.py:850: RuntimeWarning: Mean of empty slice.\n",
            "  i = smooth(f1_curve.mean(0), 0.1).argmax()  # max F1 index\n",
            "/usr/local/lib/python3.12/dist-packages/numpy/_core/_methods.py:130: RuntimeWarning: invalid value encountered in divide\n",
            "  ret = um.true_divide(\n"
          ]
        },
        {
          "output_type": "stream",
          "name": "stdout",
          "text": [
            "\n",
            "      Epoch    GPU_mem   box_loss   cls_loss   dfl_loss  Instances       Size\n",
            "\u001b[K      27/50         0G          0         32          0          0        640: 100% ━━━━━━━━━━━━ 10/10 0.1it/s 2:13\n",
            "\u001b[K                 Class     Images  Instances      Box(P          R      mAP50  mAP50-95): 100% ━━━━━━━━━━━━ 2/2 0.2it/s 10.9s\n",
            "                   all         40          0          0          0          0          0\n",
            "WARNING ⚠️ no labels found in detect set, can not compute metrics without labels\n"
          ]
        },
        {
          "output_type": "stream",
          "name": "stderr",
          "text": [
            "/usr/local/lib/python3.12/dist-packages/ultralytics/utils/metrics.py:850: RuntimeWarning: Mean of empty slice.\n",
            "  i = smooth(f1_curve.mean(0), 0.1).argmax()  # max F1 index\n",
            "/usr/local/lib/python3.12/dist-packages/numpy/_core/_methods.py:130: RuntimeWarning: invalid value encountered in divide\n",
            "  ret = um.true_divide(\n"
          ]
        },
        {
          "output_type": "stream",
          "name": "stdout",
          "text": [
            "\n",
            "      Epoch    GPU_mem   box_loss   cls_loss   dfl_loss  Instances       Size\n",
            "\u001b[K      28/50         0G          0      30.84          0          0        640: 100% ━━━━━━━━━━━━ 10/10 0.1it/s 2:11\n",
            "\u001b[K                 Class     Images  Instances      Box(P          R      mAP50  mAP50-95): 100% ━━━━━━━━━━━━ 2/2 0.2it/s 10.6s\n",
            "                   all         40          0          0          0          0          0\n",
            "WARNING ⚠️ no labels found in detect set, can not compute metrics without labels\n"
          ]
        },
        {
          "output_type": "stream",
          "name": "stderr",
          "text": [
            "/usr/local/lib/python3.12/dist-packages/ultralytics/utils/metrics.py:850: RuntimeWarning: Mean of empty slice.\n",
            "  i = smooth(f1_curve.mean(0), 0.1).argmax()  # max F1 index\n",
            "/usr/local/lib/python3.12/dist-packages/numpy/_core/_methods.py:130: RuntimeWarning: invalid value encountered in divide\n",
            "  ret = um.true_divide(\n"
          ]
        },
        {
          "output_type": "stream",
          "name": "stdout",
          "text": [
            "\n",
            "      Epoch    GPU_mem   box_loss   cls_loss   dfl_loss  Instances       Size\n",
            "\u001b[K      29/50         0G          0      29.64          0          0        640: 100% ━━━━━━━━━━━━ 10/10 0.1it/s 2:13\n",
            "\u001b[K                 Class     Images  Instances      Box(P          R      mAP50  mAP50-95): 100% ━━━━━━━━━━━━ 2/2 0.2it/s 10.5s\n",
            "                   all         40          0          0          0          0          0\n",
            "WARNING ⚠️ no labels found in detect set, can not compute metrics without labels\n"
          ]
        },
        {
          "output_type": "stream",
          "name": "stderr",
          "text": [
            "/usr/local/lib/python3.12/dist-packages/ultralytics/utils/metrics.py:850: RuntimeWarning: Mean of empty slice.\n",
            "  i = smooth(f1_curve.mean(0), 0.1).argmax()  # max F1 index\n",
            "/usr/local/lib/python3.12/dist-packages/numpy/_core/_methods.py:130: RuntimeWarning: invalid value encountered in divide\n",
            "  ret = um.true_divide(\n"
          ]
        },
        {
          "output_type": "stream",
          "name": "stdout",
          "text": [
            "\n",
            "      Epoch    GPU_mem   box_loss   cls_loss   dfl_loss  Instances       Size\n",
            "\u001b[K      30/50         0G          0      28.51          0          0        640: 100% ━━━━━━━━━━━━ 10/10 0.1it/s 2:14\n",
            "\u001b[K                 Class     Images  Instances      Box(P          R      mAP50  mAP50-95): 100% ━━━━━━━━━━━━ 2/2 0.2it/s 10.4s\n",
            "                   all         40          0          0          0          0          0\n",
            "WARNING ⚠️ no labels found in detect set, can not compute metrics without labels\n"
          ]
        },
        {
          "output_type": "stream",
          "name": "stderr",
          "text": [
            "/usr/local/lib/python3.12/dist-packages/ultralytics/utils/metrics.py:850: RuntimeWarning: Mean of empty slice.\n",
            "  i = smooth(f1_curve.mean(0), 0.1).argmax()  # max F1 index\n",
            "/usr/local/lib/python3.12/dist-packages/numpy/_core/_methods.py:130: RuntimeWarning: invalid value encountered in divide\n",
            "  ret = um.true_divide(\n"
          ]
        },
        {
          "output_type": "stream",
          "name": "stdout",
          "text": [
            "\n",
            "      Epoch    GPU_mem   box_loss   cls_loss   dfl_loss  Instances       Size\n",
            "\u001b[K      31/50         0G          0      27.41          0          0        640: 100% ━━━━━━━━━━━━ 10/10 0.1it/s 2:13\n",
            "\u001b[K                 Class     Images  Instances      Box(P          R      mAP50  mAP50-95): 100% ━━━━━━━━━━━━ 2/2 0.2it/s 10.7s\n",
            "                   all         40          0          0          0          0          0\n",
            "WARNING ⚠️ no labels found in detect set, can not compute metrics without labels\n"
          ]
        },
        {
          "output_type": "stream",
          "name": "stderr",
          "text": [
            "/usr/local/lib/python3.12/dist-packages/ultralytics/utils/metrics.py:850: RuntimeWarning: Mean of empty slice.\n",
            "  i = smooth(f1_curve.mean(0), 0.1).argmax()  # max F1 index\n",
            "/usr/local/lib/python3.12/dist-packages/numpy/_core/_methods.py:130: RuntimeWarning: invalid value encountered in divide\n",
            "  ret = um.true_divide(\n"
          ]
        },
        {
          "output_type": "stream",
          "name": "stdout",
          "text": [
            "\n",
            "      Epoch    GPU_mem   box_loss   cls_loss   dfl_loss  Instances       Size\n",
            "\u001b[K      32/50         0G          0      26.45          0          0        640: 100% ━━━━━━━━━━━━ 10/10 0.1it/s 2:11\n",
            "\u001b[K                 Class     Images  Instances      Box(P          R      mAP50  mAP50-95): 100% ━━━━━━━━━━━━ 2/2 0.2it/s 10.9s\n",
            "                   all         40          0          0          0          0          0\n",
            "WARNING ⚠️ no labels found in detect set, can not compute metrics without labels\n"
          ]
        },
        {
          "output_type": "stream",
          "name": "stderr",
          "text": [
            "/usr/local/lib/python3.12/dist-packages/ultralytics/utils/metrics.py:850: RuntimeWarning: Mean of empty slice.\n",
            "  i = smooth(f1_curve.mean(0), 0.1).argmax()  # max F1 index\n",
            "/usr/local/lib/python3.12/dist-packages/numpy/_core/_methods.py:130: RuntimeWarning: invalid value encountered in divide\n",
            "  ret = um.true_divide(\n"
          ]
        },
        {
          "output_type": "stream",
          "name": "stdout",
          "text": [
            "\n",
            "      Epoch    GPU_mem   box_loss   cls_loss   dfl_loss  Instances       Size\n",
            "\u001b[K      33/50         0G          0       25.4          0          0        640: 100% ━━━━━━━━━━━━ 10/10 0.1it/s 2:10\n",
            "\u001b[K                 Class     Images  Instances      Box(P          R      mAP50  mAP50-95): 100% ━━━━━━━━━━━━ 2/2 0.2it/s 11.0s\n",
            "                   all         40          0          0          0          0          0\n",
            "WARNING ⚠️ no labels found in detect set, can not compute metrics without labels\n"
          ]
        },
        {
          "output_type": "stream",
          "name": "stderr",
          "text": [
            "/usr/local/lib/python3.12/dist-packages/ultralytics/utils/metrics.py:850: RuntimeWarning: Mean of empty slice.\n",
            "  i = smooth(f1_curve.mean(0), 0.1).argmax()  # max F1 index\n",
            "/usr/local/lib/python3.12/dist-packages/numpy/_core/_methods.py:130: RuntimeWarning: invalid value encountered in divide\n",
            "  ret = um.true_divide(\n"
          ]
        },
        {
          "output_type": "stream",
          "name": "stdout",
          "text": [
            "\n",
            "      Epoch    GPU_mem   box_loss   cls_loss   dfl_loss  Instances       Size\n",
            "\u001b[K      34/50         0G          0      24.59          0          0        640: 100% ━━━━━━━━━━━━ 10/10 0.1it/s 2:14\n",
            "\u001b[K                 Class     Images  Instances      Box(P          R      mAP50  mAP50-95): 100% ━━━━━━━━━━━━ 2/2 0.2it/s 11.3s\n",
            "                   all         40          0          0          0          0          0\n",
            "WARNING ⚠️ no labels found in detect set, can not compute metrics without labels\n"
          ]
        },
        {
          "output_type": "stream",
          "name": "stderr",
          "text": [
            "/usr/local/lib/python3.12/dist-packages/ultralytics/utils/metrics.py:850: RuntimeWarning: Mean of empty slice.\n",
            "  i = smooth(f1_curve.mean(0), 0.1).argmax()  # max F1 index\n",
            "/usr/local/lib/python3.12/dist-packages/numpy/_core/_methods.py:130: RuntimeWarning: invalid value encountered in divide\n",
            "  ret = um.true_divide(\n"
          ]
        },
        {
          "output_type": "stream",
          "name": "stdout",
          "text": [
            "\n",
            "      Epoch    GPU_mem   box_loss   cls_loss   dfl_loss  Instances       Size\n",
            "\u001b[K      35/50         0G          0      23.72          0          0        640: 100% ━━━━━━━━━━━━ 10/10 0.1it/s 2:17\n",
            "\u001b[K                 Class     Images  Instances      Box(P          R      mAP50  mAP50-95): 100% ━━━━━━━━━━━━ 2/2 0.2it/s 10.9s\n",
            "                   all         40          0          0          0          0          0\n",
            "WARNING ⚠️ no labels found in detect set, can not compute metrics without labels\n"
          ]
        },
        {
          "output_type": "stream",
          "name": "stderr",
          "text": [
            "/usr/local/lib/python3.12/dist-packages/ultralytics/utils/metrics.py:850: RuntimeWarning: Mean of empty slice.\n",
            "  i = smooth(f1_curve.mean(0), 0.1).argmax()  # max F1 index\n",
            "/usr/local/lib/python3.12/dist-packages/numpy/_core/_methods.py:130: RuntimeWarning: invalid value encountered in divide\n",
            "  ret = um.true_divide(\n"
          ]
        },
        {
          "output_type": "stream",
          "name": "stdout",
          "text": [
            "\n",
            "      Epoch    GPU_mem   box_loss   cls_loss   dfl_loss  Instances       Size\n",
            "\u001b[K      36/50         0G          0      23.02          0          0        640: 100% ━━━━━━━━━━━━ 10/10 0.1it/s 2:14\n",
            "\u001b[K                 Class     Images  Instances      Box(P          R      mAP50  mAP50-95): 100% ━━━━━━━━━━━━ 2/2 0.2it/s 10.8s\n",
            "                   all         40          0          0          0          0          0\n",
            "WARNING ⚠️ no labels found in detect set, can not compute metrics without labels\n"
          ]
        },
        {
          "output_type": "stream",
          "name": "stderr",
          "text": [
            "/usr/local/lib/python3.12/dist-packages/ultralytics/utils/metrics.py:850: RuntimeWarning: Mean of empty slice.\n",
            "  i = smooth(f1_curve.mean(0), 0.1).argmax()  # max F1 index\n",
            "/usr/local/lib/python3.12/dist-packages/numpy/_core/_methods.py:130: RuntimeWarning: invalid value encountered in divide\n",
            "  ret = um.true_divide(\n"
          ]
        },
        {
          "output_type": "stream",
          "name": "stdout",
          "text": [
            "\n",
            "      Epoch    GPU_mem   box_loss   cls_loss   dfl_loss  Instances       Size\n",
            "\u001b[K      37/50         0G          0      22.28          0          0        640: 100% ━━━━━━━━━━━━ 10/10 0.1it/s 2:10\n",
            "\u001b[K                 Class     Images  Instances      Box(P          R      mAP50  mAP50-95): 100% ━━━━━━━━━━━━ 2/2 0.2it/s 10.7s\n",
            "                   all         40          0          0          0          0          0\n",
            "WARNING ⚠️ no labels found in detect set, can not compute metrics without labels\n"
          ]
        },
        {
          "output_type": "stream",
          "name": "stderr",
          "text": [
            "/usr/local/lib/python3.12/dist-packages/ultralytics/utils/metrics.py:850: RuntimeWarning: Mean of empty slice.\n",
            "  i = smooth(f1_curve.mean(0), 0.1).argmax()  # max F1 index\n",
            "/usr/local/lib/python3.12/dist-packages/numpy/_core/_methods.py:130: RuntimeWarning: invalid value encountered in divide\n",
            "  ret = um.true_divide(\n"
          ]
        },
        {
          "output_type": "stream",
          "name": "stdout",
          "text": [
            "\n",
            "      Epoch    GPU_mem   box_loss   cls_loss   dfl_loss  Instances       Size\n",
            "\u001b[K      38/50         0G          0      21.66          0          0        640: 100% ━━━━━━━━━━━━ 10/10 0.1it/s 2:10\n",
            "\u001b[K                 Class     Images  Instances      Box(P          R      mAP50  mAP50-95): 100% ━━━━━━━━━━━━ 2/2 0.2it/s 10.5s\n",
            "                   all         40          0          0          0          0          0\n",
            "WARNING ⚠️ no labels found in detect set, can not compute metrics without labels\n"
          ]
        },
        {
          "output_type": "stream",
          "name": "stderr",
          "text": [
            "/usr/local/lib/python3.12/dist-packages/ultralytics/utils/metrics.py:850: RuntimeWarning: Mean of empty slice.\n",
            "  i = smooth(f1_curve.mean(0), 0.1).argmax()  # max F1 index\n",
            "/usr/local/lib/python3.12/dist-packages/numpy/_core/_methods.py:130: RuntimeWarning: invalid value encountered in divide\n",
            "  ret = um.true_divide(\n"
          ]
        },
        {
          "output_type": "stream",
          "name": "stdout",
          "text": [
            "\n",
            "      Epoch    GPU_mem   box_loss   cls_loss   dfl_loss  Instances       Size\n",
            "\u001b[K      39/50         0G          0      21.08          0          0        640: 100% ━━━━━━━━━━━━ 10/10 0.1it/s 2:10\n",
            "\u001b[K                 Class     Images  Instances      Box(P          R      mAP50  mAP50-95): 100% ━━━━━━━━━━━━ 2/2 0.2it/s 10.6s\n",
            "                   all         40          0          0          0          0          0\n",
            "WARNING ⚠️ no labels found in detect set, can not compute metrics without labels\n"
          ]
        },
        {
          "output_type": "stream",
          "name": "stderr",
          "text": [
            "/usr/local/lib/python3.12/dist-packages/ultralytics/utils/metrics.py:850: RuntimeWarning: Mean of empty slice.\n",
            "  i = smooth(f1_curve.mean(0), 0.1).argmax()  # max F1 index\n",
            "/usr/local/lib/python3.12/dist-packages/numpy/_core/_methods.py:130: RuntimeWarning: invalid value encountered in divide\n",
            "  ret = um.true_divide(\n"
          ]
        },
        {
          "output_type": "stream",
          "name": "stdout",
          "text": [
            "\n",
            "      Epoch    GPU_mem   box_loss   cls_loss   dfl_loss  Instances       Size\n",
            "\u001b[K      40/50         0G          0      20.63          0          0        640: 100% ━━━━━━━━━━━━ 10/10 0.1it/s 2:11\n",
            "\u001b[K                 Class     Images  Instances      Box(P          R      mAP50  mAP50-95): 100% ━━━━━━━━━━━━ 2/2 0.2it/s 10.3s\n",
            "                   all         40          0          0          0          0          0\n",
            "WARNING ⚠️ no labels found in detect set, can not compute metrics without labels\n"
          ]
        },
        {
          "output_type": "stream",
          "name": "stderr",
          "text": [
            "/usr/local/lib/python3.12/dist-packages/ultralytics/utils/metrics.py:850: RuntimeWarning: Mean of empty slice.\n",
            "  i = smooth(f1_curve.mean(0), 0.1).argmax()  # max F1 index\n",
            "/usr/local/lib/python3.12/dist-packages/numpy/_core/_methods.py:130: RuntimeWarning: invalid value encountered in divide\n",
            "  ret = um.true_divide(\n"
          ]
        },
        {
          "output_type": "stream",
          "name": "stdout",
          "text": [
            "Closing dataloader mosaic\n",
            "\u001b[34m\u001b[1malbumentations: \u001b[0mBlur(p=0.01, blur_limit=(3, 7)), MedianBlur(p=0.01, blur_limit=(3, 7)), ToGray(p=0.01, method='weighted_average', num_output_channels=3), CLAHE(p=0.01, clip_limit=(1.0, 4.0), tile_grid_size=(8, 8))\n",
            "\n",
            "      Epoch    GPU_mem   box_loss   cls_loss   dfl_loss  Instances       Size\n",
            "\u001b[K      41/50         0G          0      20.14          0          0        640: 100% ━━━━━━━━━━━━ 10/10 0.1it/s 2:10\n",
            "\u001b[K                 Class     Images  Instances      Box(P          R      mAP50  mAP50-95): 100% ━━━━━━━━━━━━ 2/2 0.2it/s 10.5s\n",
            "                   all         40          0          0          0          0          0\n",
            "WARNING ⚠️ no labels found in detect set, can not compute metrics without labels\n"
          ]
        },
        {
          "output_type": "stream",
          "name": "stderr",
          "text": [
            "/usr/local/lib/python3.12/dist-packages/ultralytics/utils/metrics.py:850: RuntimeWarning: Mean of empty slice.\n",
            "  i = smooth(f1_curve.mean(0), 0.1).argmax()  # max F1 index\n",
            "/usr/local/lib/python3.12/dist-packages/numpy/_core/_methods.py:130: RuntimeWarning: invalid value encountered in divide\n",
            "  ret = um.true_divide(\n"
          ]
        },
        {
          "output_type": "stream",
          "name": "stdout",
          "text": [
            "\n",
            "      Epoch    GPU_mem   box_loss   cls_loss   dfl_loss  Instances       Size\n",
            "\u001b[K      42/50         0G          0      19.78          0          0        640: 100% ━━━━━━━━━━━━ 10/10 0.1it/s 2:10\n",
            "\u001b[K                 Class     Images  Instances      Box(P          R      mAP50  mAP50-95): 100% ━━━━━━━━━━━━ 2/2 0.2it/s 10.7s\n",
            "                   all         40          0          0          0          0          0\n",
            "WARNING ⚠️ no labels found in detect set, can not compute metrics without labels\n"
          ]
        },
        {
          "output_type": "stream",
          "name": "stderr",
          "text": [
            "/usr/local/lib/python3.12/dist-packages/ultralytics/utils/metrics.py:850: RuntimeWarning: Mean of empty slice.\n",
            "  i = smooth(f1_curve.mean(0), 0.1).argmax()  # max F1 index\n",
            "/usr/local/lib/python3.12/dist-packages/numpy/_core/_methods.py:130: RuntimeWarning: invalid value encountered in divide\n",
            "  ret = um.true_divide(\n"
          ]
        },
        {
          "output_type": "stream",
          "name": "stdout",
          "text": [
            "\n",
            "      Epoch    GPU_mem   box_loss   cls_loss   dfl_loss  Instances       Size\n",
            "\u001b[K      43/50         0G          0      19.39          0          0        640: 100% ━━━━━━━━━━━━ 10/10 0.1it/s 2:10\n",
            "\u001b[K                 Class     Images  Instances      Box(P          R      mAP50  mAP50-95): 100% ━━━━━━━━━━━━ 2/2 0.2it/s 10.7s\n",
            "                   all         40          0          0          0          0          0\n",
            "WARNING ⚠️ no labels found in detect set, can not compute metrics without labels\n"
          ]
        },
        {
          "output_type": "stream",
          "name": "stderr",
          "text": [
            "/usr/local/lib/python3.12/dist-packages/ultralytics/utils/metrics.py:850: RuntimeWarning: Mean of empty slice.\n",
            "  i = smooth(f1_curve.mean(0), 0.1).argmax()  # max F1 index\n",
            "/usr/local/lib/python3.12/dist-packages/numpy/_core/_methods.py:130: RuntimeWarning: invalid value encountered in divide\n",
            "  ret = um.true_divide(\n"
          ]
        },
        {
          "output_type": "stream",
          "name": "stdout",
          "text": [
            "\n",
            "      Epoch    GPU_mem   box_loss   cls_loss   dfl_loss  Instances       Size\n",
            "\u001b[K      44/50         0G          0       19.1          0          0        640: 100% ━━━━━━━━━━━━ 10/10 0.1it/s 2:11\n",
            "\u001b[K                 Class     Images  Instances      Box(P          R      mAP50  mAP50-95): 100% ━━━━━━━━━━━━ 2/2 0.2it/s 10.5s\n",
            "                   all         40          0          0          0          0          0\n",
            "WARNING ⚠️ no labels found in detect set, can not compute metrics without labels\n"
          ]
        },
        {
          "output_type": "stream",
          "name": "stderr",
          "text": [
            "/usr/local/lib/python3.12/dist-packages/ultralytics/utils/metrics.py:850: RuntimeWarning: Mean of empty slice.\n",
            "  i = smooth(f1_curve.mean(0), 0.1).argmax()  # max F1 index\n",
            "/usr/local/lib/python3.12/dist-packages/numpy/_core/_methods.py:130: RuntimeWarning: invalid value encountered in divide\n",
            "  ret = um.true_divide(\n"
          ]
        },
        {
          "output_type": "stream",
          "name": "stdout",
          "text": [
            "\n",
            "      Epoch    GPU_mem   box_loss   cls_loss   dfl_loss  Instances       Size\n",
            "\u001b[K      45/50         0G          0      18.81          0          0        640: 100% ━━━━━━━━━━━━ 10/10 0.1it/s 2:10\n",
            "\u001b[K                 Class     Images  Instances      Box(P          R      mAP50  mAP50-95): 100% ━━━━━━━━━━━━ 2/2 0.2it/s 10.3s\n",
            "                   all         40          0          0          0          0          0\n",
            "WARNING ⚠️ no labels found in detect set, can not compute metrics without labels\n"
          ]
        },
        {
          "output_type": "stream",
          "name": "stderr",
          "text": [
            "/usr/local/lib/python3.12/dist-packages/ultralytics/utils/metrics.py:850: RuntimeWarning: Mean of empty slice.\n",
            "  i = smooth(f1_curve.mean(0), 0.1).argmax()  # max F1 index\n",
            "/usr/local/lib/python3.12/dist-packages/numpy/_core/_methods.py:130: RuntimeWarning: invalid value encountered in divide\n",
            "  ret = um.true_divide(\n"
          ]
        },
        {
          "output_type": "stream",
          "name": "stdout",
          "text": [
            "\n",
            "      Epoch    GPU_mem   box_loss   cls_loss   dfl_loss  Instances       Size\n",
            "\u001b[K      46/50         0G          0      18.59          0          0        640: 100% ━━━━━━━━━━━━ 10/10 0.1it/s 2:09\n",
            "\u001b[K                 Class     Images  Instances      Box(P          R      mAP50  mAP50-95): 100% ━━━━━━━━━━━━ 2/2 0.2it/s 10.9s\n",
            "                   all         40          0          0          0          0          0\n",
            "WARNING ⚠️ no labels found in detect set, can not compute metrics without labels\n"
          ]
        },
        {
          "output_type": "stream",
          "name": "stderr",
          "text": [
            "/usr/local/lib/python3.12/dist-packages/ultralytics/utils/metrics.py:850: RuntimeWarning: Mean of empty slice.\n",
            "  i = smooth(f1_curve.mean(0), 0.1).argmax()  # max F1 index\n",
            "/usr/local/lib/python3.12/dist-packages/numpy/_core/_methods.py:130: RuntimeWarning: invalid value encountered in divide\n",
            "  ret = um.true_divide(\n"
          ]
        },
        {
          "output_type": "stream",
          "name": "stdout",
          "text": [
            "\n",
            "      Epoch    GPU_mem   box_loss   cls_loss   dfl_loss  Instances       Size\n",
            "\u001b[K      47/50         0G          0      18.38          0          0        640: 100% ━━━━━━━━━━━━ 10/10 0.1it/s 2:10\n",
            "\u001b[K                 Class     Images  Instances      Box(P          R      mAP50  mAP50-95): 100% ━━━━━━━━━━━━ 2/2 0.2it/s 10.8s\n",
            "                   all         40          0          0          0          0          0\n",
            "WARNING ⚠️ no labels found in detect set, can not compute metrics without labels\n"
          ]
        },
        {
          "output_type": "stream",
          "name": "stderr",
          "text": [
            "/usr/local/lib/python3.12/dist-packages/ultralytics/utils/metrics.py:850: RuntimeWarning: Mean of empty slice.\n",
            "  i = smooth(f1_curve.mean(0), 0.1).argmax()  # max F1 index\n",
            "/usr/local/lib/python3.12/dist-packages/numpy/_core/_methods.py:130: RuntimeWarning: invalid value encountered in divide\n",
            "  ret = um.true_divide(\n"
          ]
        },
        {
          "output_type": "stream",
          "name": "stdout",
          "text": [
            "\n",
            "      Epoch    GPU_mem   box_loss   cls_loss   dfl_loss  Instances       Size\n",
            "\u001b[K      48/50         0G          0      18.24          0          0        640: 100% ━━━━━━━━━━━━ 10/10 0.1it/s 2:11\n",
            "\u001b[K                 Class     Images  Instances      Box(P          R      mAP50  mAP50-95): 100% ━━━━━━━━━━━━ 2/2 0.2it/s 10.6s\n",
            "                   all         40          0          0          0          0          0\n",
            "WARNING ⚠️ no labels found in detect set, can not compute metrics without labels\n"
          ]
        },
        {
          "output_type": "stream",
          "name": "stderr",
          "text": [
            "/usr/local/lib/python3.12/dist-packages/ultralytics/utils/metrics.py:850: RuntimeWarning: Mean of empty slice.\n",
            "  i = smooth(f1_curve.mean(0), 0.1).argmax()  # max F1 index\n",
            "/usr/local/lib/python3.12/dist-packages/numpy/_core/_methods.py:130: RuntimeWarning: invalid value encountered in divide\n",
            "  ret = um.true_divide(\n"
          ]
        },
        {
          "output_type": "stream",
          "name": "stdout",
          "text": [
            "\n",
            "      Epoch    GPU_mem   box_loss   cls_loss   dfl_loss  Instances       Size\n",
            "\u001b[K      49/50         0G          0      18.12          0          0        640: 100% ━━━━━━━━━━━━ 10/10 0.1it/s 2:10\n",
            "\u001b[K                 Class     Images  Instances      Box(P          R      mAP50  mAP50-95): 100% ━━━━━━━━━━━━ 2/2 0.2it/s 10.5s\n",
            "                   all         40          0          0          0          0          0\n",
            "WARNING ⚠️ no labels found in detect set, can not compute metrics without labels\n"
          ]
        },
        {
          "output_type": "stream",
          "name": "stderr",
          "text": [
            "/usr/local/lib/python3.12/dist-packages/ultralytics/utils/metrics.py:850: RuntimeWarning: Mean of empty slice.\n",
            "  i = smooth(f1_curve.mean(0), 0.1).argmax()  # max F1 index\n",
            "/usr/local/lib/python3.12/dist-packages/numpy/_core/_methods.py:130: RuntimeWarning: invalid value encountered in divide\n",
            "  ret = um.true_divide(\n"
          ]
        },
        {
          "output_type": "stream",
          "name": "stdout",
          "text": [
            "\n",
            "      Epoch    GPU_mem   box_loss   cls_loss   dfl_loss  Instances       Size\n",
            "\u001b[K      50/50         0G          0      18.04          0          0        640: 100% ━━━━━━━━━━━━ 10/10 0.1it/s 2:10\n",
            "\u001b[K                 Class     Images  Instances      Box(P          R      mAP50  mAP50-95): 100% ━━━━━━━━━━━━ 2/2 0.2it/s 10.4s\n",
            "                   all         40          0          0          0          0          0\n",
            "WARNING ⚠️ no labels found in detect set, can not compute metrics without labels\n"
          ]
        },
        {
          "output_type": "stream",
          "name": "stderr",
          "text": [
            "/usr/local/lib/python3.12/dist-packages/ultralytics/utils/metrics.py:850: RuntimeWarning: Mean of empty slice.\n",
            "  i = smooth(f1_curve.mean(0), 0.1).argmax()  # max F1 index\n",
            "/usr/local/lib/python3.12/dist-packages/numpy/_core/_methods.py:130: RuntimeWarning: invalid value encountered in divide\n",
            "  ret = um.true_divide(\n"
          ]
        },
        {
          "output_type": "stream",
          "name": "stdout",
          "text": [
            "\n",
            "50 epochs completed in 1.990 hours.\n",
            "Optimizer stripped from /content/runs/detect/train2/weights/last.pt, 6.2MB\n",
            "Optimizer stripped from /content/runs/detect/train2/weights/best.pt, 6.2MB\n",
            "\n",
            "Validating /content/runs/detect/train2/weights/best.pt...\n",
            "Ultralytics 8.3.202 🚀 Python-3.12.11 torch-2.8.0+cu126 CPU (Intel Xeon CPU @ 2.20GHz)\n",
            "Model summary (fused): 72 layers, 3,006,038 parameters, 0 gradients, 8.1 GFLOPs\n",
            "\u001b[K                 Class     Images  Instances      Box(P          R      mAP50  mAP50-95): 100% ━━━━━━━━━━━━ 2/2 0.2it/s 10.0s\n"
          ]
        },
        {
          "output_type": "stream",
          "name": "stderr",
          "text": [
            "/usr/local/lib/python3.12/dist-packages/ultralytics/utils/metrics.py:668: RuntimeWarning: Mean of empty slice.\n",
            "  ax.plot(px, py.mean(1), linewidth=3, color=\"blue\", label=f\"all classes {ap[:, 0].mean():.3f} mAP@0.5\")\n",
            "/usr/local/lib/python3.12/dist-packages/numpy/_core/_methods.py:138: RuntimeWarning: invalid value encountered in scalar divide\n",
            "  ret = ret.dtype.type(ret / rcount)\n",
            "/usr/local/lib/python3.12/dist-packages/ultralytics/utils/metrics.py:713: RuntimeWarning: Mean of empty slice.\n",
            "  y = smooth(py.mean(0), 0.1)\n",
            "/usr/local/lib/python3.12/dist-packages/numpy/_core/_methods.py:130: RuntimeWarning: invalid value encountered in divide\n",
            "  ret = um.true_divide(\n",
            "/usr/local/lib/python3.12/dist-packages/ultralytics/utils/metrics.py:713: RuntimeWarning: Mean of empty slice.\n",
            "  y = smooth(py.mean(0), 0.1)\n",
            "/usr/local/lib/python3.12/dist-packages/numpy/_core/_methods.py:130: RuntimeWarning: invalid value encountered in divide\n",
            "  ret = um.true_divide(\n",
            "/usr/local/lib/python3.12/dist-packages/ultralytics/utils/metrics.py:713: RuntimeWarning: Mean of empty slice.\n",
            "  y = smooth(py.mean(0), 0.1)\n",
            "/usr/local/lib/python3.12/dist-packages/numpy/_core/_methods.py:130: RuntimeWarning: invalid value encountered in divide\n",
            "  ret = um.true_divide(\n",
            "/usr/local/lib/python3.12/dist-packages/ultralytics/utils/metrics.py:850: RuntimeWarning: Mean of empty slice.\n",
            "  i = smooth(f1_curve.mean(0), 0.1).argmax()  # max F1 index\n"
          ]
        },
        {
          "output_type": "stream",
          "name": "stdout",
          "text": [
            "                   all         40          0          0          0          0          0\n",
            "WARNING ⚠️ no labels found in detect set, can not compute metrics without labels\n",
            "Speed: 2.8ms preprocess, 239.2ms inference, 0.0ms loss, 0.5ms postprocess per image\n",
            "Results saved to \u001b[1m/content/runs/detect/train2\u001b[0m\n",
            "Ultralytics 8.3.202 🚀 Python-3.12.11 torch-2.8.0+cu126 CPU (Intel Xeon CPU @ 2.20GHz)\n",
            "Model summary (fused): 72 layers, 3,006,038 parameters, 0 gradients, 8.1 GFLOPs\n",
            "\u001b[34m\u001b[1mval: \u001b[0mFast image access ✅ (ping: 0.0±0.0 ms, read: 2023.9±428.6 MB/s, size: 172.0 KB)\n",
            "\u001b[K\u001b[34m\u001b[1mval: \u001b[0mScanning /content/datasets/Val/Images.cache... 0 images, 40 backgrounds, 0 corrupt: 100% ━━━━━━━━━━━━ 40/40 14.7Kit/s 0.0s\n",
            "WARNING ⚠️ Labels are missing or empty in /content/datasets/Val/Images.cache, training may not work correctly. See https://docs.ultralytics.com/datasets for dataset formatting guidance.\n",
            "\u001b[K                 Class     Images  Instances      Box(P          R      mAP50  mAP50-95): 100% ━━━━━━━━━━━━ 3/3 0.3it/s 8.9s\n"
          ]
        },
        {
          "output_type": "stream",
          "name": "stderr",
          "text": [
            "/usr/local/lib/python3.12/dist-packages/ultralytics/utils/metrics.py:668: RuntimeWarning: Mean of empty slice.\n",
            "  ax.plot(px, py.mean(1), linewidth=3, color=\"blue\", label=f\"all classes {ap[:, 0].mean():.3f} mAP@0.5\")\n",
            "/usr/local/lib/python3.12/dist-packages/numpy/_core/_methods.py:138: RuntimeWarning: invalid value encountered in scalar divide\n",
            "  ret = ret.dtype.type(ret / rcount)\n",
            "/usr/local/lib/python3.12/dist-packages/ultralytics/utils/metrics.py:713: RuntimeWarning: Mean of empty slice.\n",
            "  y = smooth(py.mean(0), 0.1)\n",
            "/usr/local/lib/python3.12/dist-packages/numpy/_core/_methods.py:130: RuntimeWarning: invalid value encountered in divide\n",
            "  ret = um.true_divide(\n",
            "/usr/local/lib/python3.12/dist-packages/ultralytics/utils/metrics.py:713: RuntimeWarning: Mean of empty slice.\n",
            "  y = smooth(py.mean(0), 0.1)\n",
            "/usr/local/lib/python3.12/dist-packages/numpy/_core/_methods.py:130: RuntimeWarning: invalid value encountered in divide\n",
            "  ret = um.true_divide(\n",
            "/usr/local/lib/python3.12/dist-packages/ultralytics/utils/metrics.py:713: RuntimeWarning: Mean of empty slice.\n",
            "  y = smooth(py.mean(0), 0.1)\n",
            "/usr/local/lib/python3.12/dist-packages/numpy/_core/_methods.py:130: RuntimeWarning: invalid value encountered in divide\n",
            "  ret = um.true_divide(\n",
            "/usr/local/lib/python3.12/dist-packages/ultralytics/utils/metrics.py:850: RuntimeWarning: Mean of empty slice.\n",
            "  i = smooth(f1_curve.mean(0), 0.1).argmax()  # max F1 index\n"
          ]
        },
        {
          "output_type": "stream",
          "name": "stdout",
          "text": [
            "                   all         40          0          0          0          0          0\n",
            "WARNING ⚠️ no labels found in detect set, can not compute metrics without labels\n",
            "Speed: 2.2ms preprocess, 204.6ms inference, 0.0ms loss, 0.5ms postprocess per image\n",
            "Results saved to \u001b[1m/content/runs/detect/train22\u001b[0m\n",
            "\n",
            "image 1/80 /content/datasets/Test/Images/PersonCar_SIXU_C00001.jpg: 448x640 (no detections), 186.2ms\n",
            "image 2/80 /content/datasets/Test/Images/PersonCar_SIXU_C00002.jpg: 640x480 (no detections), 185.0ms\n",
            "image 3/80 /content/datasets/Test/Images/PersonCar_SIXU_C00003.jpg: 448x640 (no detections), 163.9ms\n",
            "image 4/80 /content/datasets/Test/Images/PersonCar_SIXU_C00004.jpg: 640x640 (no detections), 232.3ms\n",
            "image 5/80 /content/datasets/Test/Images/PersonCar_SIXU_C00005.jpg: 448x640 (no detections), 254.2ms\n",
            "image 6/80 /content/datasets/Test/Images/PersonCar_SIXU_C00006.jpg: 480x640 (no detections), 274.6ms\n",
            "image 7/80 /content/datasets/Test/Images/PersonCar_SIXU_C00007.jpg: 448x640 (no detections), 246.7ms\n",
            "image 8/80 /content/datasets/Test/Images/PersonCar_SIXU_C00008.jpg: 640x448 (no detections), 264.8ms\n",
            "image 9/80 /content/datasets/Test/Images/PersonCar_SIXU_C00009.jpg: 640x480 (no detections), 278.1ms\n",
            "image 10/80 /content/datasets/Test/Images/PersonCar_SIXU_C00010.jpg: 480x640 (no detections), 263.4ms\n",
            "image 11/80 /content/datasets/Test/Images/PersonCar_SIXU_C00011.jpg: 640x640 (no detections), 343.2ms\n",
            "image 12/80 /content/datasets/Test/Images/PersonCar_SIXU_C00012.jpg: 480x640 (no detections), 264.1ms\n",
            "image 13/80 /content/datasets/Test/Images/PersonCar_SIXU_C00013.jpg: 480x640 (no detections), 278.7ms\n",
            "image 14/80 /content/datasets/Test/Images/PersonCar_SIXU_C00014.jpg: 448x640 (no detections), 247.9ms\n",
            "image 15/80 /content/datasets/Test/Images/PersonCar_SIXU_C00015.jpg: 352x640 (no detections), 148.9ms\n",
            "image 16/80 /content/datasets/Test/Images/PersonCar_SIXU_C00016.jpg: 384x640 (no detections), 163.9ms\n",
            "image 17/80 /content/datasets/Test/Images/PersonCar_SIXU_C00017.jpg: 640x480 (no detections), 175.5ms\n",
            "image 18/80 /content/datasets/Test/Images/PersonCar_SIXU_C00018.jpg: 448x640 (no detections), 186.5ms\n",
            "image 19/80 /content/datasets/Test/Images/PersonCar_SIXU_C00019.jpg: 448x640 (no detections), 155.7ms\n",
            "image 20/80 /content/datasets/Test/Images/PersonCar_SIXU_C00020.jpg: 480x640 (no detections), 165.5ms\n",
            "image 21/80 /content/datasets/Test/Images/PersonCar_SIXU_C00021.jpg: 448x640 (no detections), 155.7ms\n",
            "image 22/80 /content/datasets/Test/Images/PersonCar_SIXU_C00022.jpg: 480x640 (no detections), 166.5ms\n",
            "image 23/80 /content/datasets/Test/Images/PersonCar_SIXU_C00023.jpg: 448x640 (no detections), 159.7ms\n",
            "image 24/80 /content/datasets/Test/Images/PersonCar_SIXU_C00024.jpg: 448x640 (no detections), 169.5ms\n",
            "image 25/80 /content/datasets/Test/Images/PersonCar_SIXU_C00025.jpg: 544x640 (no detections), 190.8ms\n",
            "image 26/80 /content/datasets/Test/Images/PersonCar_SIXU_C00026.jpg: 448x640 (no detections), 159.2ms\n",
            "image 27/80 /content/datasets/Test/Images/PersonCar_SIXU_C00027.jpg: 480x640 (no detections), 169.6ms\n",
            "image 28/80 /content/datasets/Test/Images/PersonCar_SIXU_C00028.jpg: 640x576 (no detections), 215.9ms\n",
            "image 29/80 /content/datasets/Test/Images/PersonCar_SIXU_C00029.jpg: 480x640 (no detections), 191.1ms\n",
            "image 30/80 /content/datasets/Test/Images/PersonCar_SIXU_C00030.jpg: 448x640 (no detections), 158.0ms\n",
            "image 31/80 /content/datasets/Test/Images/PersonCar_SIXU_C00031.jpg: 480x640 (no detections), 163.6ms\n",
            "image 32/80 /content/datasets/Test/Images/PersonCar_SIXU_C00032.jpg: 480x640 (no detections), 167.2ms\n",
            "image 33/80 /content/datasets/Test/Images/PersonCar_SIXU_C00033.jpg: 384x640 (no detections), 141.6ms\n",
            "image 34/80 /content/datasets/Test/Images/PersonCar_SIXU_C00034.jpg: 480x640 (no detections), 165.4ms\n",
            "image 35/80 /content/datasets/Test/Images/PersonCar_SIXU_C00035.jpg: 448x640 (no detections), 170.7ms\n",
            "image 36/80 /content/datasets/Test/Images/PersonCar_SIXU_C00036.jpg: 480x640 (no detections), 162.3ms\n",
            "image 37/80 /content/datasets/Test/Images/PersonCar_SIXU_C00037.jpg: 640x480 (no detections), 170.0ms\n",
            "image 38/80 /content/datasets/Test/Images/PersonCar_SIXU_C00038.jpg: 448x640 (no detections), 157.8ms\n",
            "image 39/80 /content/datasets/Test/Images/PersonCar_SIXU_C00039.jpg: 448x640 (no detections), 158.1ms\n",
            "image 40/80 /content/datasets/Test/Images/PersonCar_SIXU_C00040.jpg: 448x640 (no detections), 158.8ms\n",
            "image 41/80 /content/datasets/Test/Images/PersonCar_SIXU_C00041.jpg: 448x640 (no detections), 171.1ms\n",
            "image 42/80 /content/datasets/Test/Images/PersonCar_SIXU_C00042.jpg: 448x640 (no detections), 151.1ms\n",
            "image 43/80 /content/datasets/Test/Images/PersonCar_SIXU_C00043.jpg: 640x416 (no detections), 157.9ms\n",
            "image 44/80 /content/datasets/Test/Images/PersonCar_SIXU_C00044.jpg: 480x640 (no detections), 167.3ms\n",
            "image 45/80 /content/datasets/Test/Images/PersonCar_SIXU_C00045.jpg: 640x448 (no detections), 157.8ms\n",
            "image 46/80 /content/datasets/Test/Images/PersonCar_SIXU_C00046.jpg: 448x640 (no detections), 158.0ms\n",
            "image 47/80 /content/datasets/Test/Images/PersonCar_SIXU_C00047.jpg: 640x640 (no detections), 233.3ms\n",
            "image 48/80 /content/datasets/Test/Images/PersonCar_SIXU_C00048.jpg: 640x480 (no detections), 166.6ms\n",
            "image 49/80 /content/datasets/Test/Images/PersonCar_SIXU_C00049.jpg: 640x640 (no detections), 223.5ms\n",
            "image 50/80 /content/datasets/Test/Images/PersonCar_SIXU_C00050.jpg: 448x640 (no detections), 156.2ms\n",
            "image 51/80 /content/datasets/Test/Images/PersonCar_SIXU_C00051.jpg: 480x640 (no detections), 163.4ms\n",
            "image 52/80 /content/datasets/Test/Images/PersonCar_SIXU_C00052.jpg: 640x480 (no detections), 183.0ms\n",
            "image 53/80 /content/datasets/Test/Images/PersonCar_SIXU_C00053.jpg: 640x512 (no detections), 191.4ms\n",
            "image 54/80 /content/datasets/Test/Images/PersonCar_SIXU_C00054.jpg: 480x640 (no detections), 167.4ms\n",
            "image 55/80 /content/datasets/Test/Images/PersonCar_SIXU_C00055.jpg: 448x640 (no detections), 157.5ms\n",
            "image 56/80 /content/datasets/Test/Images/PersonCar_SIXU_C00056.jpg: 480x640 (no detections), 166.8ms\n",
            "image 57/80 /content/datasets/Test/Images/PersonCar_SIXU_C00057.jpg: 384x640 (no detections), 138.0ms\n",
            "image 58/80 /content/datasets/Test/Images/PersonCar_SIXU_C00058.jpg: 448x640 (no detections), 181.9ms\n",
            "image 59/80 /content/datasets/Test/Images/PersonCar_SIXU_C00059.jpg: 640x480 (no detections), 173.8ms\n",
            "image 60/80 /content/datasets/Test/Images/PersonCar_SIXU_C00060.jpg: 480x640 (no detections), 172.1ms\n",
            "image 61/80 /content/datasets/Test/Images/PersonCar_SIXU_C00061.jpg: 480x640 (no detections), 166.8ms\n",
            "image 62/80 /content/datasets/Test/Images/PersonCar_SIXU_C00062.jpg: 448x640 (no detections), 153.6ms\n",
            "image 63/80 /content/datasets/Test/Images/PersonCar_SIXU_C00063.jpg: 640x480 (no detections), 171.9ms\n",
            "image 64/80 /content/datasets/Test/Images/PersonCar_SIXU_C00064.jpg: 448x640 (no detections), 169.7ms\n",
            "image 65/80 /content/datasets/Test/Images/PersonCar_SIXU_C00065.jpg: 448x640 (no detections), 160.2ms\n",
            "image 66/80 /content/datasets/Test/Images/PersonCar_SIXU_C00066.jpg: 640x448 (no detections), 169.7ms\n",
            "image 67/80 /content/datasets/Test/Images/PersonCar_SIXU_C00067.jpg: 480x640 (no detections), 171.5ms\n",
            "image 68/80 /content/datasets/Test/Images/PersonCar_SIXU_C00068.jpg: 640x480 (no detections), 169.9ms\n",
            "image 69/80 /content/datasets/Test/Images/PersonCar_SIXU_C00069.jpg: 640x448 (no detections), 159.8ms\n",
            "image 70/80 /content/datasets/Test/Images/PersonCar_SIXU_C00070.jpg: 480x640 (no detections), 270.7ms\n",
            "image 71/80 /content/datasets/Test/Images/PersonCar_SIXU_C00071.jpg: 480x640 (no detections), 259.0ms\n",
            "image 72/80 /content/datasets/Test/Images/PersonCar_SIXU_C00072.jpg: 448x640 (no detections), 248.7ms\n",
            "image 73/80 /content/datasets/Test/Images/PersonCar_SIXU_C00073.jpg: 640x448 (no detections), 256.1ms\n",
            "image 74/80 /content/datasets/Test/Images/PersonCar_SIXU_C00074.jpg: 640x640 (no detections), 346.6ms\n",
            "image 75/80 /content/datasets/Test/Images/PersonCar_SIXU_C00075.jpg: 384x640 (no detections), 213.2ms\n",
            "image 76/80 /content/datasets/Test/Images/PersonCar_SIXU_C00076.jpg: 448x640 (no detections), 240.2ms\n",
            "image 77/80 /content/datasets/Test/Images/PersonCar_SIXU_C00077.jpg: 448x640 (no detections), 259.8ms\n",
            "image 78/80 /content/datasets/Test/Images/PersonCar_SIXU_C00078.jpg: 640x352 (no detections), 223.1ms\n",
            "image 79/80 /content/datasets/Test/Images/PersonCar_SIXU_C00079.jpg: 480x640 (no detections), 271.6ms\n",
            "image 80/80 /content/datasets/Test/Images/PersonCar_SIXU_C00080.jpg: 640x480 (no detections), 201.4ms\n",
            "Speed: 2.6ms preprocess, 194.4ms inference, 0.8ms postprocess per image at shape (1, 3, 640, 480)\n",
            "Results saved to \u001b[1m/content/runs/detect/train23\u001b[0m\n"
          ]
        }
      ]
    }
  ]
}